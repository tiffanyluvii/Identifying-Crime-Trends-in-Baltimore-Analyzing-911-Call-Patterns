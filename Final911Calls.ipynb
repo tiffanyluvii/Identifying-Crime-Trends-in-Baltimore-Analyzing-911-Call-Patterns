{
  "cells": [
    {
      "cell_type": "markdown",
      "metadata": {
        "id": "KwNkQ0s_TH0X"
      },
      "source": [
        "<h1><center> An Analysis of the Different Factors that Affect The Priority Level of a 911 Call\n",
        "\n",
        "Fall 2024 Data Science Project\n",
        "\n",
        "Collaborators: Ryan Eldho, Tiffany Lu, Akshay Badrinathan, Eli Choi"
      ]
    },
    {
      "cell_type": "markdown",
      "source": [
        "# **Contributions**\n",
        "\n",
        "**A: Project idea**\n",
        "\n",
        "As a group we brainstormed for project ideas before finally landing on Baltimore 911 calls, as it was a huge dataset and we felt that it was interesting enough to test on.\n",
        "\n",
        "**B: Dataset Curation and Preprocessing**\n",
        "\n",
        "Tiffany - Removed all the empty data from the 911_calls_for_service.csv.  Got rid of irrelevant columns (Unnamed 0 and Out of Service) and reformatted the priorities into integers to calculate the mean more\n",
        "easily. Separated the callDateTime column into two columns: Date and Time.\n",
        "\n",
        "**C: Data Exploration and Summary Statistics**\n",
        "\n",
        "Akshay - Cleaned data into am and pm call time data frames suitable for processing. Conducted Two Sample T-Test to see if 911 call times (am vs. pm) affected priority of the call, created appropriate boxplots.\n",
        "\n",
        "Ryan - Created top_10_df for use with any case relating to description, since top_10_df isolates only the top 10 most common descriptions out of all the data. Did chi-square test of description vs. priority, and created visualization to highlight differences in priority for the top 10 incidents.\n",
        "\n",
        "Eli - Cleaned and separated the district and description data to aggregate the amount of descriptions into the top 5 per district. Ran a chi-squared test to see if the two variables had a statistically significant relationship, but ultimately didn’t use it in the final product as it didn’t fit the question.\n",
        "\n",
        "Tiffany- Created an analysis for District vs Priority using an ANOVA test. Created a corresponding visualization for this analysis which displayed varying priorities per district. Also, figured out the central tendencies of the 911 calls section which determines the overall statistics for the dataset.\n",
        "\n",
        "**D: ML Algorithm Design/Development**\n",
        "\n",
        "Akshay - Worked on Call Time, Description, and District vs. Priority Machine Learning Analysis section. Cleaned data by encoding to transform description and district data to integers, and transformed call time data to time stamps suitable for ML model input.\n",
        "\n",
        "Ryan - Worked on description v. priority machine learning question. Used logistic regression and TF-IDF for this section.\n",
        "\n",
        "Tiffany - Worked on the District and Priority section. Altered the data through encoders to fit the Machine Learning models utilized.\n",
        "\n",
        "\n",
        "**E: ML Algorithm Training and Test Data Analysis**\n",
        "\n",
        "Akshay - Trained Decision Tree ML model with description, district, and call time as input to predict priority of 911 calls, obtained ~96% accuracy. Created visual accuracy report using seaborn.\n",
        "\n",
        "Ryan - Trained logistic regression ML model with description and priority to use description to predict the priority of a call, obtaining a 98% accuracy. Created confusion matrix to visualize model results.\n",
        "\n",
        "Eli - Trained a logistics regression model with district and description to see whether the description could predict the district as accurately as the priority, but found that it was only about 20% accurate in doing so, thus further proving that the main method of determining priority was description.\n",
        "\n",
        "Tiffany - Trained a logistic regression ML model along with a Decision tree model when determining the the priority of a call based off the districts. Utilized multiple models to determine which model was best when conducting this supervised learning. Furthermore, increased accuracy by 40% by adding another feature (description) after some analytical skills.\n",
        "\n",
        "**F: Visualization, Result Analysis, Conclusion**\n",
        "\n",
        "Eli - Wrote out the conclusion along with providing the insights for what we learned, including a short results analysis that successfully answered the question we posed at the beginning.\n",
        "\n",
        "**G: Final Tutorial Report Creation**\n",
        "\n",
        "Ryan - Compiled and formatted Exploratory Data Analysis and Visualization section.\n",
        "\n",
        "Akshay - Compiled and formatted Primary Analysis section\n",
        "\n",
        "Tiffany - Wrote the Introduction; Compiled and formatted the Data Preprocessing and Exploratory Data Analysis sections.\n",
        "\n",
        "Eli - Filled in the conclusion and insights section.\n"
      ],
      "metadata": {
        "id": "grz5tzO0a60Q"
      }
    },
    {
      "cell_type": "markdown",
      "metadata": {
        "id": "nb6fr_cAUxLQ"
      },
      "source": [
        "# **Introduction**\n",
        "\n",
        "In this tutorial, we will walk through the entire Data Science Life Cycle. To illustrate this process, we will focus on how various factors influence the priority of 911 calls in Baltimore by answering the following question: \"**What factors contribute to the variations in priority levels amongst Baltimore 911 calls?**\". These factors include the district where the crime occurred, the type of crime, and the time of the incident. As you may know, Baltimore is often ranked among the top ten most dangerous cities in the United States. There is a lot of useful and interesting information such as the types of calls coming from different regions, the dates during which the crimes happen, and how the police system prioritizes different crimes. We can use this information to inform potential residents like ourselves as to what regions have higher and lower rates of serious crimes, and the police system can use this information to distribute their resources accordingly. Furthermore, the conclusions we gather from this dataset can help assist the police systems in how to prepare for crimes in certain districts and the number of officers that should be on duty at a certain time.\n",
        "\n",
        "\n",
        "\n",
        "\n",
        "Identifying patterns that directly correlate with high-priority calls could help reduce crime in the city and ultimately improve its safety, potentially removing it from the list of dangerous cities. This is why we chose to use Data Science to identify the key factors behind high-priority calls. This analysis could drive policy changes that make Baltimore a safer community. For instance, discovering that a particular district experiences a higher frequency of high-priority calls than others could result in the allocation of more police resources to that district. Similarly, if a specific crime is more prevalent in Baltimore compared to other cities, targeted policies could be introduced to reduce that crime. Not only would this enhance the quality of life in Baltimore, but it would also lead to more efficient use of existing resources.\n",
        "\n"
      ]
    },
    {
      "cell_type": "markdown",
      "metadata": {
        "id": "Jv8nP94AqCZ5"
      },
      "source": [
        "**Contents**\n",
        "\n",
        "\n",
        "*   Data Collection\n",
        "*   Data Processing\n",
        "*   Exploratory Analysis and Data Visualization\n",
        "*   Analysis, Hypothesis Testing, and ML\n",
        "*   Insights and Conclusions\n",
        "\n",
        "\n",
        "\n",
        "\n",
        "\n"
      ]
    },
    {
      "cell_type": "markdown",
      "metadata": {
        "id": "4tPndjhAp2s8"
      },
      "source": [
        "# **Data Collection**\n",
        "\n",
        "\n",
        "The Data Collection Stage of the Data Science Life Cycle consists of finding relevant information that assists us in our analysis of 911 calls in Baltimore. One main criterion that we wanted to have in our dataset was plenty of entry points. This would allow us to easily determine any correlation that a factor has on the 911 call with more precision.\n",
        "\n",
        "Luckily the **Baltimore 911 Dataset** from Kaggle has over 200 thousand 911 calls from 2015 onward. Each call input has details including date, call time, district, district, description, etc. This gives us plenty of information to explore. After clicking on the [Kaggle Dataset](https://www.kaggle.com/datasets/sohier/baltimore-911-calls), download the following dataset. It should show up as **911_calls_for_services.csv** in your Downloads folder. Remember to move it to your project directory!\n",
        "\n",
        "Besides the dataset, we also need an IDE to develop this project in. We decided to code in Python as there are already plenty of libraries that we can utilize to help us throughout this Data Science Life Cycle. We also decided to work with [Jupyter Notebook](https://www.codecademy.com/article/introducing-jupyter-notebook#:~:text=Jupyter%20Notebook%20is%20a%20type,%2C%20debugging%2C%20and%20code%20completion.) as you're able to easily write Python code with it.\n",
        "\n",
        "Before we start utilizing the libraries, we must import them within the Jupyter Notebook. Some common libraries that we will be utilizing are [Pandas](https://pandas.pydata.org/docs/user_guide/index.html), [NumPy](https://numpy.org/doc/stable/user/), [SeaBorn](https://seaborn.pydata.org/tutorial/introduction.html), and [PyPlot](https://matplotlib.org/3.5.3/api/_as_gen/matplotlib.pyplot.html)."
      ]
    },
    {
      "cell_type": "markdown",
      "metadata": {
        "id": "gx6Jox4KsOKQ"
      },
      "source": [
        "**Reasons Why We Use Each Library**"
      ]
    },
    {
      "cell_type": "markdown",
      "metadata": {
        "id": "boRp_cpisWdt"
      },
      "source": [
        "Pandas is a powerful Python library for data manipulation and analysis, offering flexible data structures like DataFrames and Series to efficiently handle, clean, and transform data. It supports various operations such as filtering, grouping, aggregation, and handling missing values, making it essential for tasks like data cleaning, exploration, and time series analysis.\n",
        "\n",
        "NumPy is a fundamental Python library for numerical computing, providing efficient array objects and a wide range of mathematical functions for operations on large datasets.\n",
        "\n",
        "Seaborn is a Python visualization library that simplifies the process of generating complex plots like heatmaps, boxplots, and line plots while integrating well with Pandas data structures. Seaborn is widely used for data exploration and visualizing relationships in datasets, especially in statistical analysis.\n",
        "\n",
        "Pyplot is a module in Matplotlib that also offers functions to generate basic charts for visualization like line plots, bar charts, histograms, and scatter plots. Pyplot is used for its flexibility in creating custom plots for data analysis.\n",
        "\n",
        "Below are the imports that you must have before we continue with **Data Processing!**"
      ]
    },
    {
      "cell_type": "code",
      "execution_count": null,
      "metadata": {
        "id": "RXT0MWB5tQ9C"
      },
      "outputs": [],
      "source": [
        "import pandas as pd\n",
        "import numpy as np\n",
        "import matplotlib.pyplot as plt\n",
        "import requests\n",
        "import scipy.stats as stats\n",
        "\n",
        "from collections import Counter\n",
        "from scipy.stats import chi2_contingency\n",
        "import scipy.stats as stats\n",
        "\n",
        "from sklearn import tree\n",
        "from sklearn.model_selection import train_test_split, cross_val_score, StratifiedKFold\n",
        "from sklearn.preprocessing import StandardScaler, LabelEncoder, OneHotEncoder\n",
        "from sklearn.metrics import accuracy_score, classification_report, confusion_matrix, silhouette_score, ConfusionMatrixDisplay\n",
        "\n",
        "from sklearn.cluster import KMeans, DBSCAN\n",
        "from sklearn.feature_extraction.text import TfidfVectorizer\n",
        "from sklearn.decomposition import PCA\n",
        "from sklearn.manifold import TSNE\n",
        "from matplotlib.colors import Normalize\n",
        "from matplotlib.lines import Line2D\n",
        "import seaborn as sns\n",
        "\n",
        "import ast\n",
        "pd.set_option('display.max_columns', None)\n",
        "from scipy.spatial.distance import cdist\n",
        "\n",
        "import warnings\n",
        "\n",
        "# Suppress the specific FutureWarning\n",
        "warnings.filterwarnings(\"ignore\", category=FutureWarning, module=\"seaborn\")\n",
        "\n",
        "from sklearn.tree import DecisionTreeClassifier\n",
        "from sklearn.neighbors import KNeighborsClassifier\n",
        "from sklearn.linear_model import LogisticRegression\n",
        "from sklearn.ensemble import RandomForestClassifier"
      ]
    },
    {
      "cell_type": "markdown",
      "metadata": {
        "id": "tRk6mO4kuoyn"
      },
      "source": [
        "<a id=\"data-processing\"></a>\n",
        "# **Data Processing**\n",
        "\n",
        "Now we have our dataset picked out and our libraries imported, we have to turn process our data in order to get rid of any \"dirty data\" that may mess with our analysis.\n",
        "\n",
        "Dirty data typically deals with data that are structured incorrectly, data that are missing, and data that is inaccurate.\n",
        "\n",
        "Before we are able to do that though, we have to turn our csv file into a data frame to make manipulating the data much easier to do."
      ]
    },
    {
      "cell_type": "markdown",
      "metadata": {
        "id": "3wOY6YeM8Zzb"
      },
      "source": [
        "## **Initial Data Preprocessing**"
      ]
    },
    {
      "cell_type": "code",
      "execution_count": null,
      "metadata": {
        "colab": {
          "base_uri": "https://localhost:8080/",
          "height": 423
        },
        "id": "-9Fne_MR0VjC",
        "outputId": "665d0b36-6fdc-4d11-a523-7a3c89238320"
      },
      "outputs": [
        {
          "output_type": "execute_result",
          "data": {
            "text/plain": [
              "         Unnamed: 0         callDateTime priority district      description  \\\n",
              "0                 0  2015-07-13 10:41:00   Medium       CD         SEE TEXT   \n",
              "1                 1  2015-07-13 10:47:00   Medium       CD    911/NO  VOICE   \n",
              "2                 2  2015-07-13 10:42:00   Medium       CD    911/NO  VOICE   \n",
              "3                 3  2015-07-13 10:45:00      Low       CD   PRKG COMPLAINT   \n",
              "4                 4  2015-07-13 10:46:00   Medium       SW       AUTO THEFT   \n",
              "...             ...                  ...      ...      ...              ...   \n",
              "2799909     2799909  2017-08-21 11:44:00   Medium       NW         BURGLARY   \n",
              "2799910     2799910  2017-08-21 11:44:00      Low       NE   GET BELONGINGS   \n",
              "2799911     2799911  2017-08-21 11:46:00   Medium       CD  JUV DISTURBANCE   \n",
              "2799912     2799912  2017-08-21 11:45:00   Medium       ED   COMMON ASSAULT   \n",
              "2799913     2799913  2017-08-21 11:49:00   Medium       WD       DISORDERLY   \n",
              "\n",
              "         callNumber    incidentLocation                  location  \n",
              "0        P151941002      0 N CALVERT ST  (39.2899299,-76.6123462)  \n",
              "1        P151941003    600 E FAYETTE ST  (39.2906737,-76.6071600)  \n",
              "2        P151941004  200 E BALTIMORE ST  (39.2898910,-76.6120720)  \n",
              "3        P151941005         800 PARK AV  (39.2985163,-76.6184754)  \n",
              "4        P151941006     3500 CLIFTON AV  (39.3112130,-76.6763150)  \n",
              "...             ...                 ...                       ...  \n",
              "2799909  P172331036      2900 VIOLET AV  (39.3297550,-76.6624990)  \n",
              "2799910  P172331037    2900 GLENMORE AV  (39.3571560,-76.5608350)  \n",
              "2799911  P172331039     1000 W NORTH AV  (39.3104606,-76.6347099)  \n",
              "2799912  P172331041    1500 E BIDDLE ST  (39.3041617,-76.5979135)  \n",
              "2799913  P172331043  2700 W FRANKLIN ST  (39.2934320,-76.6614790)  \n",
              "\n",
              "[2799914 rows x 8 columns]"
            ],
            "text/html": [
              "\n",
              "  <div id=\"df-94005f0d-7ba0-4b20-94e9-f4d73793ba33\" class=\"colab-df-container\">\n",
              "    <div>\n",
              "<style scoped>\n",
              "    .dataframe tbody tr th:only-of-type {\n",
              "        vertical-align: middle;\n",
              "    }\n",
              "\n",
              "    .dataframe tbody tr th {\n",
              "        vertical-align: top;\n",
              "    }\n",
              "\n",
              "    .dataframe thead th {\n",
              "        text-align: right;\n",
              "    }\n",
              "</style>\n",
              "<table border=\"1\" class=\"dataframe\">\n",
              "  <thead>\n",
              "    <tr style=\"text-align: right;\">\n",
              "      <th></th>\n",
              "      <th>Unnamed: 0</th>\n",
              "      <th>callDateTime</th>\n",
              "      <th>priority</th>\n",
              "      <th>district</th>\n",
              "      <th>description</th>\n",
              "      <th>callNumber</th>\n",
              "      <th>incidentLocation</th>\n",
              "      <th>location</th>\n",
              "    </tr>\n",
              "  </thead>\n",
              "  <tbody>\n",
              "    <tr>\n",
              "      <th>0</th>\n",
              "      <td>0</td>\n",
              "      <td>2015-07-13 10:41:00</td>\n",
              "      <td>Medium</td>\n",
              "      <td>CD</td>\n",
              "      <td>SEE TEXT</td>\n",
              "      <td>P151941002</td>\n",
              "      <td>0 N CALVERT ST</td>\n",
              "      <td>(39.2899299,-76.6123462)</td>\n",
              "    </tr>\n",
              "    <tr>\n",
              "      <th>1</th>\n",
              "      <td>1</td>\n",
              "      <td>2015-07-13 10:47:00</td>\n",
              "      <td>Medium</td>\n",
              "      <td>CD</td>\n",
              "      <td>911/NO  VOICE</td>\n",
              "      <td>P151941003</td>\n",
              "      <td>600 E FAYETTE ST</td>\n",
              "      <td>(39.2906737,-76.6071600)</td>\n",
              "    </tr>\n",
              "    <tr>\n",
              "      <th>2</th>\n",
              "      <td>2</td>\n",
              "      <td>2015-07-13 10:42:00</td>\n",
              "      <td>Medium</td>\n",
              "      <td>CD</td>\n",
              "      <td>911/NO  VOICE</td>\n",
              "      <td>P151941004</td>\n",
              "      <td>200 E BALTIMORE ST</td>\n",
              "      <td>(39.2898910,-76.6120720)</td>\n",
              "    </tr>\n",
              "    <tr>\n",
              "      <th>3</th>\n",
              "      <td>3</td>\n",
              "      <td>2015-07-13 10:45:00</td>\n",
              "      <td>Low</td>\n",
              "      <td>CD</td>\n",
              "      <td>PRKG COMPLAINT</td>\n",
              "      <td>P151941005</td>\n",
              "      <td>800 PARK AV</td>\n",
              "      <td>(39.2985163,-76.6184754)</td>\n",
              "    </tr>\n",
              "    <tr>\n",
              "      <th>4</th>\n",
              "      <td>4</td>\n",
              "      <td>2015-07-13 10:46:00</td>\n",
              "      <td>Medium</td>\n",
              "      <td>SW</td>\n",
              "      <td>AUTO THEFT</td>\n",
              "      <td>P151941006</td>\n",
              "      <td>3500 CLIFTON AV</td>\n",
              "      <td>(39.3112130,-76.6763150)</td>\n",
              "    </tr>\n",
              "    <tr>\n",
              "      <th>...</th>\n",
              "      <td>...</td>\n",
              "      <td>...</td>\n",
              "      <td>...</td>\n",
              "      <td>...</td>\n",
              "      <td>...</td>\n",
              "      <td>...</td>\n",
              "      <td>...</td>\n",
              "      <td>...</td>\n",
              "    </tr>\n",
              "    <tr>\n",
              "      <th>2799909</th>\n",
              "      <td>2799909</td>\n",
              "      <td>2017-08-21 11:44:00</td>\n",
              "      <td>Medium</td>\n",
              "      <td>NW</td>\n",
              "      <td>BURGLARY</td>\n",
              "      <td>P172331036</td>\n",
              "      <td>2900 VIOLET AV</td>\n",
              "      <td>(39.3297550,-76.6624990)</td>\n",
              "    </tr>\n",
              "    <tr>\n",
              "      <th>2799910</th>\n",
              "      <td>2799910</td>\n",
              "      <td>2017-08-21 11:44:00</td>\n",
              "      <td>Low</td>\n",
              "      <td>NE</td>\n",
              "      <td>GET BELONGINGS</td>\n",
              "      <td>P172331037</td>\n",
              "      <td>2900 GLENMORE AV</td>\n",
              "      <td>(39.3571560,-76.5608350)</td>\n",
              "    </tr>\n",
              "    <tr>\n",
              "      <th>2799911</th>\n",
              "      <td>2799911</td>\n",
              "      <td>2017-08-21 11:46:00</td>\n",
              "      <td>Medium</td>\n",
              "      <td>CD</td>\n",
              "      <td>JUV DISTURBANCE</td>\n",
              "      <td>P172331039</td>\n",
              "      <td>1000 W NORTH AV</td>\n",
              "      <td>(39.3104606,-76.6347099)</td>\n",
              "    </tr>\n",
              "    <tr>\n",
              "      <th>2799912</th>\n",
              "      <td>2799912</td>\n",
              "      <td>2017-08-21 11:45:00</td>\n",
              "      <td>Medium</td>\n",
              "      <td>ED</td>\n",
              "      <td>COMMON ASSAULT</td>\n",
              "      <td>P172331041</td>\n",
              "      <td>1500 E BIDDLE ST</td>\n",
              "      <td>(39.3041617,-76.5979135)</td>\n",
              "    </tr>\n",
              "    <tr>\n",
              "      <th>2799913</th>\n",
              "      <td>2799913</td>\n",
              "      <td>2017-08-21 11:49:00</td>\n",
              "      <td>Medium</td>\n",
              "      <td>WD</td>\n",
              "      <td>DISORDERLY</td>\n",
              "      <td>P172331043</td>\n",
              "      <td>2700 W FRANKLIN ST</td>\n",
              "      <td>(39.2934320,-76.6614790)</td>\n",
              "    </tr>\n",
              "  </tbody>\n",
              "</table>\n",
              "<p>2799914 rows × 8 columns</p>\n",
              "</div>\n",
              "    <div class=\"colab-df-buttons\">\n",
              "\n",
              "  <div class=\"colab-df-container\">\n",
              "    <button class=\"colab-df-convert\" onclick=\"convertToInteractive('df-94005f0d-7ba0-4b20-94e9-f4d73793ba33')\"\n",
              "            title=\"Convert this dataframe to an interactive table.\"\n",
              "            style=\"display:none;\">\n",
              "\n",
              "  <svg xmlns=\"http://www.w3.org/2000/svg\" height=\"24px\" viewBox=\"0 -960 960 960\">\n",
              "    <path d=\"M120-120v-720h720v720H120Zm60-500h600v-160H180v160Zm220 220h160v-160H400v160Zm0 220h160v-160H400v160ZM180-400h160v-160H180v160Zm440 0h160v-160H620v160ZM180-180h160v-160H180v160Zm440 0h160v-160H620v160Z\"/>\n",
              "  </svg>\n",
              "    </button>\n",
              "\n",
              "  <style>\n",
              "    .colab-df-container {\n",
              "      display:flex;\n",
              "      gap: 12px;\n",
              "    }\n",
              "\n",
              "    .colab-df-convert {\n",
              "      background-color: #E8F0FE;\n",
              "      border: none;\n",
              "      border-radius: 50%;\n",
              "      cursor: pointer;\n",
              "      display: none;\n",
              "      fill: #1967D2;\n",
              "      height: 32px;\n",
              "      padding: 0 0 0 0;\n",
              "      width: 32px;\n",
              "    }\n",
              "\n",
              "    .colab-df-convert:hover {\n",
              "      background-color: #E2EBFA;\n",
              "      box-shadow: 0px 1px 2px rgba(60, 64, 67, 0.3), 0px 1px 3px 1px rgba(60, 64, 67, 0.15);\n",
              "      fill: #174EA6;\n",
              "    }\n",
              "\n",
              "    .colab-df-buttons div {\n",
              "      margin-bottom: 4px;\n",
              "    }\n",
              "\n",
              "    [theme=dark] .colab-df-convert {\n",
              "      background-color: #3B4455;\n",
              "      fill: #D2E3FC;\n",
              "    }\n",
              "\n",
              "    [theme=dark] .colab-df-convert:hover {\n",
              "      background-color: #434B5C;\n",
              "      box-shadow: 0px 1px 3px 1px rgba(0, 0, 0, 0.15);\n",
              "      filter: drop-shadow(0px 1px 2px rgba(0, 0, 0, 0.3));\n",
              "      fill: #FFFFFF;\n",
              "    }\n",
              "  </style>\n",
              "\n",
              "    <script>\n",
              "      const buttonEl =\n",
              "        document.querySelector('#df-94005f0d-7ba0-4b20-94e9-f4d73793ba33 button.colab-df-convert');\n",
              "      buttonEl.style.display =\n",
              "        google.colab.kernel.accessAllowed ? 'block' : 'none';\n",
              "\n",
              "      async function convertToInteractive(key) {\n",
              "        const element = document.querySelector('#df-94005f0d-7ba0-4b20-94e9-f4d73793ba33');\n",
              "        const dataTable =\n",
              "          await google.colab.kernel.invokeFunction('convertToInteractive',\n",
              "                                                    [key], {});\n",
              "        if (!dataTable) return;\n",
              "\n",
              "        const docLinkHtml = 'Like what you see? Visit the ' +\n",
              "          '<a target=\"_blank\" href=https://colab.research.google.com/notebooks/data_table.ipynb>data table notebook</a>'\n",
              "          + ' to learn more about interactive tables.';\n",
              "        element.innerHTML = '';\n",
              "        dataTable['output_type'] = 'display_data';\n",
              "        await google.colab.output.renderOutput(dataTable, element);\n",
              "        const docLink = document.createElement('div');\n",
              "        docLink.innerHTML = docLinkHtml;\n",
              "        element.appendChild(docLink);\n",
              "      }\n",
              "    </script>\n",
              "  </div>\n",
              "\n",
              "\n",
              "<div id=\"df-322ad089-f911-49c9-b634-52fc0c9e1f6a\">\n",
              "  <button class=\"colab-df-quickchart\" onclick=\"quickchart('df-322ad089-f911-49c9-b634-52fc0c9e1f6a')\"\n",
              "            title=\"Suggest charts\"\n",
              "            style=\"display:none;\">\n",
              "\n",
              "<svg xmlns=\"http://www.w3.org/2000/svg\" height=\"24px\"viewBox=\"0 0 24 24\"\n",
              "     width=\"24px\">\n",
              "    <g>\n",
              "        <path d=\"M19 3H5c-1.1 0-2 .9-2 2v14c0 1.1.9 2 2 2h14c1.1 0 2-.9 2-2V5c0-1.1-.9-2-2-2zM9 17H7v-7h2v7zm4 0h-2V7h2v10zm4 0h-2v-4h2v4z\"/>\n",
              "    </g>\n",
              "</svg>\n",
              "  </button>\n",
              "\n",
              "<style>\n",
              "  .colab-df-quickchart {\n",
              "      --bg-color: #E8F0FE;\n",
              "      --fill-color: #1967D2;\n",
              "      --hover-bg-color: #E2EBFA;\n",
              "      --hover-fill-color: #174EA6;\n",
              "      --disabled-fill-color: #AAA;\n",
              "      --disabled-bg-color: #DDD;\n",
              "  }\n",
              "\n",
              "  [theme=dark] .colab-df-quickchart {\n",
              "      --bg-color: #3B4455;\n",
              "      --fill-color: #D2E3FC;\n",
              "      --hover-bg-color: #434B5C;\n",
              "      --hover-fill-color: #FFFFFF;\n",
              "      --disabled-bg-color: #3B4455;\n",
              "      --disabled-fill-color: #666;\n",
              "  }\n",
              "\n",
              "  .colab-df-quickchart {\n",
              "    background-color: var(--bg-color);\n",
              "    border: none;\n",
              "    border-radius: 50%;\n",
              "    cursor: pointer;\n",
              "    display: none;\n",
              "    fill: var(--fill-color);\n",
              "    height: 32px;\n",
              "    padding: 0;\n",
              "    width: 32px;\n",
              "  }\n",
              "\n",
              "  .colab-df-quickchart:hover {\n",
              "    background-color: var(--hover-bg-color);\n",
              "    box-shadow: 0 1px 2px rgba(60, 64, 67, 0.3), 0 1px 3px 1px rgba(60, 64, 67, 0.15);\n",
              "    fill: var(--button-hover-fill-color);\n",
              "  }\n",
              "\n",
              "  .colab-df-quickchart-complete:disabled,\n",
              "  .colab-df-quickchart-complete:disabled:hover {\n",
              "    background-color: var(--disabled-bg-color);\n",
              "    fill: var(--disabled-fill-color);\n",
              "    box-shadow: none;\n",
              "  }\n",
              "\n",
              "  .colab-df-spinner {\n",
              "    border: 2px solid var(--fill-color);\n",
              "    border-color: transparent;\n",
              "    border-bottom-color: var(--fill-color);\n",
              "    animation:\n",
              "      spin 1s steps(1) infinite;\n",
              "  }\n",
              "\n",
              "  @keyframes spin {\n",
              "    0% {\n",
              "      border-color: transparent;\n",
              "      border-bottom-color: var(--fill-color);\n",
              "      border-left-color: var(--fill-color);\n",
              "    }\n",
              "    20% {\n",
              "      border-color: transparent;\n",
              "      border-left-color: var(--fill-color);\n",
              "      border-top-color: var(--fill-color);\n",
              "    }\n",
              "    30% {\n",
              "      border-color: transparent;\n",
              "      border-left-color: var(--fill-color);\n",
              "      border-top-color: var(--fill-color);\n",
              "      border-right-color: var(--fill-color);\n",
              "    }\n",
              "    40% {\n",
              "      border-color: transparent;\n",
              "      border-right-color: var(--fill-color);\n",
              "      border-top-color: var(--fill-color);\n",
              "    }\n",
              "    60% {\n",
              "      border-color: transparent;\n",
              "      border-right-color: var(--fill-color);\n",
              "    }\n",
              "    80% {\n",
              "      border-color: transparent;\n",
              "      border-right-color: var(--fill-color);\n",
              "      border-bottom-color: var(--fill-color);\n",
              "    }\n",
              "    90% {\n",
              "      border-color: transparent;\n",
              "      border-bottom-color: var(--fill-color);\n",
              "    }\n",
              "  }\n",
              "</style>\n",
              "\n",
              "  <script>\n",
              "    async function quickchart(key) {\n",
              "      const quickchartButtonEl =\n",
              "        document.querySelector('#' + key + ' button');\n",
              "      quickchartButtonEl.disabled = true;  // To prevent multiple clicks.\n",
              "      quickchartButtonEl.classList.add('colab-df-spinner');\n",
              "      try {\n",
              "        const charts = await google.colab.kernel.invokeFunction(\n",
              "            'suggestCharts', [key], {});\n",
              "      } catch (error) {\n",
              "        console.error('Error during call to suggestCharts:', error);\n",
              "      }\n",
              "      quickchartButtonEl.classList.remove('colab-df-spinner');\n",
              "      quickchartButtonEl.classList.add('colab-df-quickchart-complete');\n",
              "    }\n",
              "    (() => {\n",
              "      let quickchartButtonEl =\n",
              "        document.querySelector('#df-322ad089-f911-49c9-b634-52fc0c9e1f6a button');\n",
              "      quickchartButtonEl.style.display =\n",
              "        google.colab.kernel.accessAllowed ? 'block' : 'none';\n",
              "    })();\n",
              "  </script>\n",
              "</div>\n",
              "\n",
              "  <div id=\"id_50932d2d-fd60-4aea-803b-e2bbb2b9e5fb\">\n",
              "    <style>\n",
              "      .colab-df-generate {\n",
              "        background-color: #E8F0FE;\n",
              "        border: none;\n",
              "        border-radius: 50%;\n",
              "        cursor: pointer;\n",
              "        display: none;\n",
              "        fill: #1967D2;\n",
              "        height: 32px;\n",
              "        padding: 0 0 0 0;\n",
              "        width: 32px;\n",
              "      }\n",
              "\n",
              "      .colab-df-generate:hover {\n",
              "        background-color: #E2EBFA;\n",
              "        box-shadow: 0px 1px 2px rgba(60, 64, 67, 0.3), 0px 1px 3px 1px rgba(60, 64, 67, 0.15);\n",
              "        fill: #174EA6;\n",
              "      }\n",
              "\n",
              "      [theme=dark] .colab-df-generate {\n",
              "        background-color: #3B4455;\n",
              "        fill: #D2E3FC;\n",
              "      }\n",
              "\n",
              "      [theme=dark] .colab-df-generate:hover {\n",
              "        background-color: #434B5C;\n",
              "        box-shadow: 0px 1px 3px 1px rgba(0, 0, 0, 0.15);\n",
              "        filter: drop-shadow(0px 1px 2px rgba(0, 0, 0, 0.3));\n",
              "        fill: #FFFFFF;\n",
              "      }\n",
              "    </style>\n",
              "    <button class=\"colab-df-generate\" onclick=\"generateWithVariable('df')\"\n",
              "            title=\"Generate code using this dataframe.\"\n",
              "            style=\"display:none;\">\n",
              "\n",
              "  <svg xmlns=\"http://www.w3.org/2000/svg\" height=\"24px\"viewBox=\"0 0 24 24\"\n",
              "       width=\"24px\">\n",
              "    <path d=\"M7,19H8.4L18.45,9,17,7.55,7,17.6ZM5,21V16.75L18.45,3.32a2,2,0,0,1,2.83,0l1.4,1.43a1.91,1.91,0,0,1,.58,1.4,1.91,1.91,0,0,1-.58,1.4L9.25,21ZM18.45,9,17,7.55Zm-12,3A5.31,5.31,0,0,0,4.9,8.1,5.31,5.31,0,0,0,1,6.5,5.31,5.31,0,0,0,4.9,4.9,5.31,5.31,0,0,0,6.5,1,5.31,5.31,0,0,0,8.1,4.9,5.31,5.31,0,0,0,12,6.5,5.46,5.46,0,0,0,6.5,12Z\"/>\n",
              "  </svg>\n",
              "    </button>\n",
              "    <script>\n",
              "      (() => {\n",
              "      const buttonEl =\n",
              "        document.querySelector('#id_50932d2d-fd60-4aea-803b-e2bbb2b9e5fb button.colab-df-generate');\n",
              "      buttonEl.style.display =\n",
              "        google.colab.kernel.accessAllowed ? 'block' : 'none';\n",
              "\n",
              "      buttonEl.onclick = () => {\n",
              "        google.colab.notebook.generateWithVariable('df');\n",
              "      }\n",
              "      })();\n",
              "    </script>\n",
              "  </div>\n",
              "\n",
              "    </div>\n",
              "  </div>\n"
            ],
            "application/vnd.google.colaboratory.intrinsic+json": {
              "type": "dataframe",
              "variable_name": "df"
            }
          },
          "metadata": {},
          "execution_count": 76
        }
      ],
      "source": [
        "df = pd.read_csv('911_calls_for_service.csv')\n",
        "df"
      ]
    },
    {
      "cell_type": "markdown",
      "metadata": {
        "id": "ZzP4RVly1BSE"
      },
      "source": [
        "Now to begin our data processing, we have to determine how many features and columns our data frame has. Along with this, we will also check how many missing values are in our dataset.\n",
        "\n"
      ]
    },
    {
      "cell_type": "code",
      "execution_count": null,
      "metadata": {
        "id": "vwJtXGnn07lc",
        "colab": {
          "base_uri": "https://localhost:8080/"
        },
        "outputId": "12716ae3-2e64-4cf7-881e-7093bd534b95"
      },
      "outputs": [
        {
          "output_type": "stream",
          "name": "stdout",
          "text": [
            "(2799914, 8)\n",
            "Unnamed: 0             0\n",
            "callDateTime           0\n",
            "priority            6655\n",
            "district               0\n",
            "description            0\n",
            "callNumber             0\n",
            "incidentLocation       0\n",
            "location               0\n",
            "dtype: int64\n"
          ]
        }
      ],
      "source": [
        "print(df.shape)\n",
        "print(df.isna().sum())"
      ]
    },
    {
      "cell_type": "markdown",
      "metadata": {
        "id": "VR1o3_xB3pOg"
      },
      "source": [
        "Since the only missing value is priority and it makes up only **0.238%** of the dataset, we can just drop it. This avoids us dealing with null data."
      ]
    },
    {
      "cell_type": "markdown",
      "metadata": {
        "id": "cpcgxlfm4CnY"
      },
      "source": [
        "After looking at each of the columns, we can see that there's a column **Unnamed:0** which doesn't make sense in the context of the analysis. We can remove this column entirely. Furthermore, callTime and Data are combined together into one column. We will have to restructure this to create a **Date column** and **Time column**. This will allow us to deduce more patterns based on these features."
      ]
    },
    {
      "cell_type": "code",
      "execution_count": null,
      "metadata": {
        "id": "uPD1MDOq3nv3",
        "colab": {
          "base_uri": "https://localhost:8080/",
          "height": 527
        },
        "outputId": "0dc7579c-2212-46e6-ae78-1969aab29d8a"
      },
      "outputs": [
        {
          "output_type": "stream",
          "name": "stderr",
          "text": [
            "<ipython-input-78-cd227b5a86f2>:18: SettingWithCopyWarning: \n",
            "A value is trying to be set on a copy of a slice from a DataFrame.\n",
            "Try using .loc[row_indexer,col_indexer] = value instead\n",
            "\n",
            "See the caveats in the documentation: https://pandas.pydata.org/pandas-docs/stable/user_guide/indexing.html#returning-a-view-versus-a-copy\n",
            "  new_df['coordinates'] = new_df['location']\n"
          ]
        },
        {
          "output_type": "execute_result",
          "data": {
            "text/plain": [
              "               date      time priority district      description  callNumber  \\\n",
              "0        2015-07-13  10:41:00   Medium       CD         SEE TEXT  P151941002   \n",
              "1        2015-07-13  10:47:00   Medium       CD    911/NO  VOICE  P151941003   \n",
              "2        2015-07-13  10:42:00   Medium       CD    911/NO  VOICE  P151941004   \n",
              "3        2015-07-13  10:45:00      Low       CD   PRKG COMPLAINT  P151941005   \n",
              "4        2015-07-13  10:46:00   Medium       SW       AUTO THEFT  P151941006   \n",
              "...             ...       ...      ...      ...              ...         ...   \n",
              "2799909  2017-08-21  11:44:00   Medium       NW         BURGLARY  P172331036   \n",
              "2799910  2017-08-21  11:44:00      Low       NE   GET BELONGINGS  P172331037   \n",
              "2799911  2017-08-21  11:46:00   Medium       CD  JUV DISTURBANCE  P172331039   \n",
              "2799912  2017-08-21  11:45:00   Medium       ED   COMMON ASSAULT  P172331041   \n",
              "2799913  2017-08-21  11:49:00   Medium       WD       DISORDERLY  P172331043   \n",
              "\n",
              "                      coordinates            location  \n",
              "0        (39.2899299,-76.6123462)      0 N CALVERT ST  \n",
              "1        (39.2906737,-76.6071600)    600 E FAYETTE ST  \n",
              "2        (39.2898910,-76.6120720)  200 E BALTIMORE ST  \n",
              "3        (39.2985163,-76.6184754)         800 PARK AV  \n",
              "4        (39.3112130,-76.6763150)     3500 CLIFTON AV  \n",
              "...                           ...                 ...  \n",
              "2799909  (39.3297550,-76.6624990)      2900 VIOLET AV  \n",
              "2799910  (39.3571560,-76.5608350)    2900 GLENMORE AV  \n",
              "2799911  (39.3104606,-76.6347099)     1000 W NORTH AV  \n",
              "2799912  (39.3041617,-76.5979135)    1500 E BIDDLE ST  \n",
              "2799913  (39.2934320,-76.6614790)  2700 W FRANKLIN ST  \n",
              "\n",
              "[2793259 rows x 8 columns]"
            ],
            "text/html": [
              "\n",
              "  <div id=\"df-cd8c27e5-4025-45d5-8c6a-ade0c920b821\" class=\"colab-df-container\">\n",
              "    <div>\n",
              "<style scoped>\n",
              "    .dataframe tbody tr th:only-of-type {\n",
              "        vertical-align: middle;\n",
              "    }\n",
              "\n",
              "    .dataframe tbody tr th {\n",
              "        vertical-align: top;\n",
              "    }\n",
              "\n",
              "    .dataframe thead th {\n",
              "        text-align: right;\n",
              "    }\n",
              "</style>\n",
              "<table border=\"1\" class=\"dataframe\">\n",
              "  <thead>\n",
              "    <tr style=\"text-align: right;\">\n",
              "      <th></th>\n",
              "      <th>date</th>\n",
              "      <th>time</th>\n",
              "      <th>priority</th>\n",
              "      <th>district</th>\n",
              "      <th>description</th>\n",
              "      <th>callNumber</th>\n",
              "      <th>coordinates</th>\n",
              "      <th>location</th>\n",
              "    </tr>\n",
              "  </thead>\n",
              "  <tbody>\n",
              "    <tr>\n",
              "      <th>0</th>\n",
              "      <td>2015-07-13</td>\n",
              "      <td>10:41:00</td>\n",
              "      <td>Medium</td>\n",
              "      <td>CD</td>\n",
              "      <td>SEE TEXT</td>\n",
              "      <td>P151941002</td>\n",
              "      <td>(39.2899299,-76.6123462)</td>\n",
              "      <td>0 N CALVERT ST</td>\n",
              "    </tr>\n",
              "    <tr>\n",
              "      <th>1</th>\n",
              "      <td>2015-07-13</td>\n",
              "      <td>10:47:00</td>\n",
              "      <td>Medium</td>\n",
              "      <td>CD</td>\n",
              "      <td>911/NO  VOICE</td>\n",
              "      <td>P151941003</td>\n",
              "      <td>(39.2906737,-76.6071600)</td>\n",
              "      <td>600 E FAYETTE ST</td>\n",
              "    </tr>\n",
              "    <tr>\n",
              "      <th>2</th>\n",
              "      <td>2015-07-13</td>\n",
              "      <td>10:42:00</td>\n",
              "      <td>Medium</td>\n",
              "      <td>CD</td>\n",
              "      <td>911/NO  VOICE</td>\n",
              "      <td>P151941004</td>\n",
              "      <td>(39.2898910,-76.6120720)</td>\n",
              "      <td>200 E BALTIMORE ST</td>\n",
              "    </tr>\n",
              "    <tr>\n",
              "      <th>3</th>\n",
              "      <td>2015-07-13</td>\n",
              "      <td>10:45:00</td>\n",
              "      <td>Low</td>\n",
              "      <td>CD</td>\n",
              "      <td>PRKG COMPLAINT</td>\n",
              "      <td>P151941005</td>\n",
              "      <td>(39.2985163,-76.6184754)</td>\n",
              "      <td>800 PARK AV</td>\n",
              "    </tr>\n",
              "    <tr>\n",
              "      <th>4</th>\n",
              "      <td>2015-07-13</td>\n",
              "      <td>10:46:00</td>\n",
              "      <td>Medium</td>\n",
              "      <td>SW</td>\n",
              "      <td>AUTO THEFT</td>\n",
              "      <td>P151941006</td>\n",
              "      <td>(39.3112130,-76.6763150)</td>\n",
              "      <td>3500 CLIFTON AV</td>\n",
              "    </tr>\n",
              "    <tr>\n",
              "      <th>...</th>\n",
              "      <td>...</td>\n",
              "      <td>...</td>\n",
              "      <td>...</td>\n",
              "      <td>...</td>\n",
              "      <td>...</td>\n",
              "      <td>...</td>\n",
              "      <td>...</td>\n",
              "      <td>...</td>\n",
              "    </tr>\n",
              "    <tr>\n",
              "      <th>2799909</th>\n",
              "      <td>2017-08-21</td>\n",
              "      <td>11:44:00</td>\n",
              "      <td>Medium</td>\n",
              "      <td>NW</td>\n",
              "      <td>BURGLARY</td>\n",
              "      <td>P172331036</td>\n",
              "      <td>(39.3297550,-76.6624990)</td>\n",
              "      <td>2900 VIOLET AV</td>\n",
              "    </tr>\n",
              "    <tr>\n",
              "      <th>2799910</th>\n",
              "      <td>2017-08-21</td>\n",
              "      <td>11:44:00</td>\n",
              "      <td>Low</td>\n",
              "      <td>NE</td>\n",
              "      <td>GET BELONGINGS</td>\n",
              "      <td>P172331037</td>\n",
              "      <td>(39.3571560,-76.5608350)</td>\n",
              "      <td>2900 GLENMORE AV</td>\n",
              "    </tr>\n",
              "    <tr>\n",
              "      <th>2799911</th>\n",
              "      <td>2017-08-21</td>\n",
              "      <td>11:46:00</td>\n",
              "      <td>Medium</td>\n",
              "      <td>CD</td>\n",
              "      <td>JUV DISTURBANCE</td>\n",
              "      <td>P172331039</td>\n",
              "      <td>(39.3104606,-76.6347099)</td>\n",
              "      <td>1000 W NORTH AV</td>\n",
              "    </tr>\n",
              "    <tr>\n",
              "      <th>2799912</th>\n",
              "      <td>2017-08-21</td>\n",
              "      <td>11:45:00</td>\n",
              "      <td>Medium</td>\n",
              "      <td>ED</td>\n",
              "      <td>COMMON ASSAULT</td>\n",
              "      <td>P172331041</td>\n",
              "      <td>(39.3041617,-76.5979135)</td>\n",
              "      <td>1500 E BIDDLE ST</td>\n",
              "    </tr>\n",
              "    <tr>\n",
              "      <th>2799913</th>\n",
              "      <td>2017-08-21</td>\n",
              "      <td>11:49:00</td>\n",
              "      <td>Medium</td>\n",
              "      <td>WD</td>\n",
              "      <td>DISORDERLY</td>\n",
              "      <td>P172331043</td>\n",
              "      <td>(39.2934320,-76.6614790)</td>\n",
              "      <td>2700 W FRANKLIN ST</td>\n",
              "    </tr>\n",
              "  </tbody>\n",
              "</table>\n",
              "<p>2793259 rows × 8 columns</p>\n",
              "</div>\n",
              "    <div class=\"colab-df-buttons\">\n",
              "\n",
              "  <div class=\"colab-df-container\">\n",
              "    <button class=\"colab-df-convert\" onclick=\"convertToInteractive('df-cd8c27e5-4025-45d5-8c6a-ade0c920b821')\"\n",
              "            title=\"Convert this dataframe to an interactive table.\"\n",
              "            style=\"display:none;\">\n",
              "\n",
              "  <svg xmlns=\"http://www.w3.org/2000/svg\" height=\"24px\" viewBox=\"0 -960 960 960\">\n",
              "    <path d=\"M120-120v-720h720v720H120Zm60-500h600v-160H180v160Zm220 220h160v-160H400v160Zm0 220h160v-160H400v160ZM180-400h160v-160H180v160Zm440 0h160v-160H620v160ZM180-180h160v-160H180v160Zm440 0h160v-160H620v160Z\"/>\n",
              "  </svg>\n",
              "    </button>\n",
              "\n",
              "  <style>\n",
              "    .colab-df-container {\n",
              "      display:flex;\n",
              "      gap: 12px;\n",
              "    }\n",
              "\n",
              "    .colab-df-convert {\n",
              "      background-color: #E8F0FE;\n",
              "      border: none;\n",
              "      border-radius: 50%;\n",
              "      cursor: pointer;\n",
              "      display: none;\n",
              "      fill: #1967D2;\n",
              "      height: 32px;\n",
              "      padding: 0 0 0 0;\n",
              "      width: 32px;\n",
              "    }\n",
              "\n",
              "    .colab-df-convert:hover {\n",
              "      background-color: #E2EBFA;\n",
              "      box-shadow: 0px 1px 2px rgba(60, 64, 67, 0.3), 0px 1px 3px 1px rgba(60, 64, 67, 0.15);\n",
              "      fill: #174EA6;\n",
              "    }\n",
              "\n",
              "    .colab-df-buttons div {\n",
              "      margin-bottom: 4px;\n",
              "    }\n",
              "\n",
              "    [theme=dark] .colab-df-convert {\n",
              "      background-color: #3B4455;\n",
              "      fill: #D2E3FC;\n",
              "    }\n",
              "\n",
              "    [theme=dark] .colab-df-convert:hover {\n",
              "      background-color: #434B5C;\n",
              "      box-shadow: 0px 1px 3px 1px rgba(0, 0, 0, 0.15);\n",
              "      filter: drop-shadow(0px 1px 2px rgba(0, 0, 0, 0.3));\n",
              "      fill: #FFFFFF;\n",
              "    }\n",
              "  </style>\n",
              "\n",
              "    <script>\n",
              "      const buttonEl =\n",
              "        document.querySelector('#df-cd8c27e5-4025-45d5-8c6a-ade0c920b821 button.colab-df-convert');\n",
              "      buttonEl.style.display =\n",
              "        google.colab.kernel.accessAllowed ? 'block' : 'none';\n",
              "\n",
              "      async function convertToInteractive(key) {\n",
              "        const element = document.querySelector('#df-cd8c27e5-4025-45d5-8c6a-ade0c920b821');\n",
              "        const dataTable =\n",
              "          await google.colab.kernel.invokeFunction('convertToInteractive',\n",
              "                                                    [key], {});\n",
              "        if (!dataTable) return;\n",
              "\n",
              "        const docLinkHtml = 'Like what you see? Visit the ' +\n",
              "          '<a target=\"_blank\" href=https://colab.research.google.com/notebooks/data_table.ipynb>data table notebook</a>'\n",
              "          + ' to learn more about interactive tables.';\n",
              "        element.innerHTML = '';\n",
              "        dataTable['output_type'] = 'display_data';\n",
              "        await google.colab.output.renderOutput(dataTable, element);\n",
              "        const docLink = document.createElement('div');\n",
              "        docLink.innerHTML = docLinkHtml;\n",
              "        element.appendChild(docLink);\n",
              "      }\n",
              "    </script>\n",
              "  </div>\n",
              "\n",
              "\n",
              "<div id=\"df-cda7e108-6735-42aa-a60c-ac444e4f49f8\">\n",
              "  <button class=\"colab-df-quickchart\" onclick=\"quickchart('df-cda7e108-6735-42aa-a60c-ac444e4f49f8')\"\n",
              "            title=\"Suggest charts\"\n",
              "            style=\"display:none;\">\n",
              "\n",
              "<svg xmlns=\"http://www.w3.org/2000/svg\" height=\"24px\"viewBox=\"0 0 24 24\"\n",
              "     width=\"24px\">\n",
              "    <g>\n",
              "        <path d=\"M19 3H5c-1.1 0-2 .9-2 2v14c0 1.1.9 2 2 2h14c1.1 0 2-.9 2-2V5c0-1.1-.9-2-2-2zM9 17H7v-7h2v7zm4 0h-2V7h2v10zm4 0h-2v-4h2v4z\"/>\n",
              "    </g>\n",
              "</svg>\n",
              "  </button>\n",
              "\n",
              "<style>\n",
              "  .colab-df-quickchart {\n",
              "      --bg-color: #E8F0FE;\n",
              "      --fill-color: #1967D2;\n",
              "      --hover-bg-color: #E2EBFA;\n",
              "      --hover-fill-color: #174EA6;\n",
              "      --disabled-fill-color: #AAA;\n",
              "      --disabled-bg-color: #DDD;\n",
              "  }\n",
              "\n",
              "  [theme=dark] .colab-df-quickchart {\n",
              "      --bg-color: #3B4455;\n",
              "      --fill-color: #D2E3FC;\n",
              "      --hover-bg-color: #434B5C;\n",
              "      --hover-fill-color: #FFFFFF;\n",
              "      --disabled-bg-color: #3B4455;\n",
              "      --disabled-fill-color: #666;\n",
              "  }\n",
              "\n",
              "  .colab-df-quickchart {\n",
              "    background-color: var(--bg-color);\n",
              "    border: none;\n",
              "    border-radius: 50%;\n",
              "    cursor: pointer;\n",
              "    display: none;\n",
              "    fill: var(--fill-color);\n",
              "    height: 32px;\n",
              "    padding: 0;\n",
              "    width: 32px;\n",
              "  }\n",
              "\n",
              "  .colab-df-quickchart:hover {\n",
              "    background-color: var(--hover-bg-color);\n",
              "    box-shadow: 0 1px 2px rgba(60, 64, 67, 0.3), 0 1px 3px 1px rgba(60, 64, 67, 0.15);\n",
              "    fill: var(--button-hover-fill-color);\n",
              "  }\n",
              "\n",
              "  .colab-df-quickchart-complete:disabled,\n",
              "  .colab-df-quickchart-complete:disabled:hover {\n",
              "    background-color: var(--disabled-bg-color);\n",
              "    fill: var(--disabled-fill-color);\n",
              "    box-shadow: none;\n",
              "  }\n",
              "\n",
              "  .colab-df-spinner {\n",
              "    border: 2px solid var(--fill-color);\n",
              "    border-color: transparent;\n",
              "    border-bottom-color: var(--fill-color);\n",
              "    animation:\n",
              "      spin 1s steps(1) infinite;\n",
              "  }\n",
              "\n",
              "  @keyframes spin {\n",
              "    0% {\n",
              "      border-color: transparent;\n",
              "      border-bottom-color: var(--fill-color);\n",
              "      border-left-color: var(--fill-color);\n",
              "    }\n",
              "    20% {\n",
              "      border-color: transparent;\n",
              "      border-left-color: var(--fill-color);\n",
              "      border-top-color: var(--fill-color);\n",
              "    }\n",
              "    30% {\n",
              "      border-color: transparent;\n",
              "      border-left-color: var(--fill-color);\n",
              "      border-top-color: var(--fill-color);\n",
              "      border-right-color: var(--fill-color);\n",
              "    }\n",
              "    40% {\n",
              "      border-color: transparent;\n",
              "      border-right-color: var(--fill-color);\n",
              "      border-top-color: var(--fill-color);\n",
              "    }\n",
              "    60% {\n",
              "      border-color: transparent;\n",
              "      border-right-color: var(--fill-color);\n",
              "    }\n",
              "    80% {\n",
              "      border-color: transparent;\n",
              "      border-right-color: var(--fill-color);\n",
              "      border-bottom-color: var(--fill-color);\n",
              "    }\n",
              "    90% {\n",
              "      border-color: transparent;\n",
              "      border-bottom-color: var(--fill-color);\n",
              "    }\n",
              "  }\n",
              "</style>\n",
              "\n",
              "  <script>\n",
              "    async function quickchart(key) {\n",
              "      const quickchartButtonEl =\n",
              "        document.querySelector('#' + key + ' button');\n",
              "      quickchartButtonEl.disabled = true;  // To prevent multiple clicks.\n",
              "      quickchartButtonEl.classList.add('colab-df-spinner');\n",
              "      try {\n",
              "        const charts = await google.colab.kernel.invokeFunction(\n",
              "            'suggestCharts', [key], {});\n",
              "      } catch (error) {\n",
              "        console.error('Error during call to suggestCharts:', error);\n",
              "      }\n",
              "      quickchartButtonEl.classList.remove('colab-df-spinner');\n",
              "      quickchartButtonEl.classList.add('colab-df-quickchart-complete');\n",
              "    }\n",
              "    (() => {\n",
              "      let quickchartButtonEl =\n",
              "        document.querySelector('#df-cda7e108-6735-42aa-a60c-ac444e4f49f8 button');\n",
              "      quickchartButtonEl.style.display =\n",
              "        google.colab.kernel.accessAllowed ? 'block' : 'none';\n",
              "    })();\n",
              "  </script>\n",
              "</div>\n",
              "\n",
              "  <div id=\"id_acc6400e-730e-4d4f-ba08-cb6d58d10d6d\">\n",
              "    <style>\n",
              "      .colab-df-generate {\n",
              "        background-color: #E8F0FE;\n",
              "        border: none;\n",
              "        border-radius: 50%;\n",
              "        cursor: pointer;\n",
              "        display: none;\n",
              "        fill: #1967D2;\n",
              "        height: 32px;\n",
              "        padding: 0 0 0 0;\n",
              "        width: 32px;\n",
              "      }\n",
              "\n",
              "      .colab-df-generate:hover {\n",
              "        background-color: #E2EBFA;\n",
              "        box-shadow: 0px 1px 2px rgba(60, 64, 67, 0.3), 0px 1px 3px 1px rgba(60, 64, 67, 0.15);\n",
              "        fill: #174EA6;\n",
              "      }\n",
              "\n",
              "      [theme=dark] .colab-df-generate {\n",
              "        background-color: #3B4455;\n",
              "        fill: #D2E3FC;\n",
              "      }\n",
              "\n",
              "      [theme=dark] .colab-df-generate:hover {\n",
              "        background-color: #434B5C;\n",
              "        box-shadow: 0px 1px 3px 1px rgba(0, 0, 0, 0.15);\n",
              "        filter: drop-shadow(0px 1px 2px rgba(0, 0, 0, 0.3));\n",
              "        fill: #FFFFFF;\n",
              "      }\n",
              "    </style>\n",
              "    <button class=\"colab-df-generate\" onclick=\"generateWithVariable('new_df')\"\n",
              "            title=\"Generate code using this dataframe.\"\n",
              "            style=\"display:none;\">\n",
              "\n",
              "  <svg xmlns=\"http://www.w3.org/2000/svg\" height=\"24px\"viewBox=\"0 0 24 24\"\n",
              "       width=\"24px\">\n",
              "    <path d=\"M7,19H8.4L18.45,9,17,7.55,7,17.6ZM5,21V16.75L18.45,3.32a2,2,0,0,1,2.83,0l1.4,1.43a1.91,1.91,0,0,1,.58,1.4,1.91,1.91,0,0,1-.58,1.4L9.25,21ZM18.45,9,17,7.55Zm-12,3A5.31,5.31,0,0,0,4.9,8.1,5.31,5.31,0,0,0,1,6.5,5.31,5.31,0,0,0,4.9,4.9,5.31,5.31,0,0,0,6.5,1,5.31,5.31,0,0,0,8.1,4.9,5.31,5.31,0,0,0,12,6.5,5.46,5.46,0,0,0,6.5,12Z\"/>\n",
              "  </svg>\n",
              "    </button>\n",
              "    <script>\n",
              "      (() => {\n",
              "      const buttonEl =\n",
              "        document.querySelector('#id_acc6400e-730e-4d4f-ba08-cb6d58d10d6d button.colab-df-generate');\n",
              "      buttonEl.style.display =\n",
              "        google.colab.kernel.accessAllowed ? 'block' : 'none';\n",
              "\n",
              "      buttonEl.onclick = () => {\n",
              "        google.colab.notebook.generateWithVariable('new_df');\n",
              "      }\n",
              "      })();\n",
              "    </script>\n",
              "  </div>\n",
              "\n",
              "    </div>\n",
              "  </div>\n"
            ],
            "application/vnd.google.colaboratory.intrinsic+json": {
              "type": "dataframe",
              "variable_name": "new_df"
            }
          },
          "metadata": {},
          "execution_count": 78
        }
      ],
      "source": [
        "new_df = df.drop(columns = ['Unnamed: 0'])\n",
        "\n",
        "# Split up the date and time\n",
        "new_df[['date', 'time']] = new_df['callDateTime'].str.split('\\s', expand = True)\n",
        "new_df = new_df.drop(columns = ['callDateTime'])\n",
        "\n",
        "# Move the date and time columns towards the front\n",
        "date_col = new_df.pop('date')\n",
        "time_col = new_df.pop('time')\n",
        "new_df.insert(0, 'time', time_col)\n",
        "new_df.insert(0, 'date', date_col)\n",
        "\n",
        "# Drop all the NA values\n",
        "\n",
        "new_df = new_df.dropna(subset = ['date', 'time', 'priority', 'district', 'description', 'callNumber', 'incidentLocation', 'location'])\n",
        "\n",
        "# Rename the Columns\n",
        "new_df['coordinates'] = new_df['location']\n",
        "new_df = new_df.drop(columns = ['location'])\n",
        "new_df['location'] = new_df['incidentLocation']\n",
        "new_df = new_df.drop(columns = ['incidentLocation'])\n",
        "\n",
        "\n",
        "new_df"
      ]
    },
    {
      "cell_type": "markdown",
      "metadata": {
        "id": "srzZ-aEo5UsU"
      },
      "source": [
        "Now if we check again, we have separate date and time columns. Also, now if we check for any NaN values, there shouldn't be any."
      ]
    },
    {
      "cell_type": "code",
      "execution_count": null,
      "metadata": {
        "id": "ZnpoLotD5jSU",
        "colab": {
          "base_uri": "https://localhost:8080/"
        },
        "outputId": "c74a1ab7-d6cb-4b48-b229-9cf961d33d81"
      },
      "outputs": [
        {
          "output_type": "stream",
          "name": "stdout",
          "text": [
            "date           0\n",
            "time           0\n",
            "priority       0\n",
            "district       0\n",
            "description    0\n",
            "callNumber     0\n",
            "coordinates    0\n",
            "location       0\n",
            "dtype: int64\n"
          ]
        }
      ],
      "source": [
        "print(new_df.isna().sum())"
      ]
    },
    {
      "cell_type": "markdown",
      "metadata": {
        "id": "71BBLrWO70jH"
      },
      "source": [
        "## **Creating updated_priority_df**"
      ]
    },
    {
      "cell_type": "markdown",
      "metadata": {
        "id": "Q-SZuMYD77Ph"
      },
      "source": [
        "The priorities must be converted to numerical values for future use. updated_priority_df does exactly that."
      ]
    },
    {
      "cell_type": "markdown",
      "metadata": {
        "id": "lne2ByjNOkjK"
      },
      "source": [
        "Get all the districts and priority types:"
      ]
    },
    {
      "cell_type": "code",
      "execution_count": null,
      "metadata": {
        "id": "6JrYfoZkNwHc",
        "colab": {
          "base_uri": "https://localhost:8080/"
        },
        "outputId": "be1350a7-160c-4957-ded5-fd52c6f20af0"
      },
      "outputs": [
        {
          "output_type": "stream",
          "name": "stdout",
          "text": [
            "['CD' 'SW' 'ND' 'WD' 'NE' 'SE' 'SD' 'CW' 'NW' 'ED' 'TRU' 'SS' 'EVT2'\n",
            " 'INFO' 'EVT1' 'EVT3' 'FIR1' 'HP']\n",
            "['Medium' 'Low' 'High' 'Non-Emergency' 'Out of Service' 'Emergency']\n",
            "(803, 8)\n"
          ]
        }
      ],
      "source": [
        "print(new_df['district'].unique())\n",
        "print(new_df['priority'].unique())\n",
        "\n",
        "print(new_df[new_df['priority'] == 'Out of Service'].shape)"
      ]
    },
    {
      "cell_type": "markdown",
      "metadata": {
        "id": "FNH1YIhhUImk"
      },
      "source": [
        "Since \"Out of Service\" isn't really a measure of priority, we are going to drop it.\n"
      ]
    },
    {
      "cell_type": "code",
      "execution_count": null,
      "metadata": {
        "id": "N9uhzJRQT9c_"
      },
      "outputs": [],
      "source": [
        "updated_priority_df = new_df.drop(new_df[new_df['priority'] == 'Out of Service'].index)"
      ]
    },
    {
      "cell_type": "markdown",
      "metadata": {
        "id": "gYxn7yyOVXyb"
      },
      "source": [
        "We are going to update the priority to scale it from 1-5 in order to be able to express the mean of the priorities per district. Originally the priority were of type Objects which we wouldn't be able to calculate the mean of. This is why we turn it into an int following the key below.\n",
        "\n",
        "1: Non-Emergency\n",
        "\n",
        "2: Low\n",
        "\n",
        "3: Medium\n",
        "\n",
        "4: High\n",
        "\n",
        "5: Emergency"
      ]
    },
    {
      "cell_type": "code",
      "execution_count": null,
      "metadata": {
        "id": "0w8D492-Otxx"
      },
      "outputs": [],
      "source": [
        "updated_priority_df.loc[updated_priority_df['priority'] == 'Non-Emergency', 'priority'] = '1'\n",
        "updated_priority_df.loc[updated_priority_df['priority'] == 'Low', 'priority'] = '2'\n",
        "updated_priority_df.loc[updated_priority_df['priority'] == 'Medium', 'priority'] = '3'\n",
        "updated_priority_df.loc[updated_priority_df['priority'] == 'High', 'priority'] = '4'\n",
        "updated_priority_df.loc[updated_priority_df['priority'] == 'Emergency', 'priority'] = '5'\n",
        "updated_priority_df['priority'] = updated_priority_df['priority'].apply(int)"
      ]
    },
    {
      "cell_type": "markdown",
      "metadata": {
        "id": "aciYMhKq7Lqx"
      },
      "source": [
        "## **Creating top_10_df**"
      ]
    },
    {
      "cell_type": "markdown",
      "metadata": {
        "id": "S4yiC8Rd7W0p"
      },
      "source": [
        "For any code that deals specifically with descriptions, we use a modified df called \"top_10_df\". The data has so many different descriptions and also has many descriptions which mean the same thing, but differ in spelling. So, we first filter for only the top 10 most popular descriptions, which leaves us with ~1.4 million data points to use. The \"updated_priority_df\" is used, which has already converted the priority into a number."
      ]
    },
    {
      "cell_type": "code",
      "execution_count": null,
      "metadata": {
        "id": "GiWxWOos7W0q",
        "colab": {
          "base_uri": "https://localhost:8080/",
          "height": 423
        },
        "outputId": "e10449c9-55e8-40ef-b485-a04b9c73d927"
      },
      "outputs": [
        {
          "output_type": "execute_result",
          "data": {
            "text/plain": [
              "               date      time  priority district     description  callNumber  \\\n",
              "1        2015-07-13  10:47:00         3       CD   911/NO  VOICE  P151941003   \n",
              "2        2015-07-13  10:42:00         3       CD   911/NO  VOICE  P151941004   \n",
              "5        2015-07-13  10:47:00         3       ND  FAMILY DISTURB  P151941007   \n",
              "6        2015-07-13  10:46:00         4       WD    SILENT ALARM  P151941008   \n",
              "7        2015-07-13  10:49:00         2       SW   AUTO ACCIDENT  P151941010   \n",
              "...             ...       ...       ...      ...             ...         ...   \n",
              "2799904  2017-08-21  11:42:00         3       ED   911/NO  VOICE  P172331029   \n",
              "2799907  2017-08-21  11:43:00         4       CD    SILENT ALARM  P172331034   \n",
              "2799908  2017-08-21  11:43:00         3       NW  FAMILY DISTURB  P172331035   \n",
              "2799912  2017-08-21  11:45:00         3       ED  COMMON ASSAULT  P172331041   \n",
              "2799913  2017-08-21  11:49:00         3       WD      DISORDERLY  P172331043   \n",
              "\n",
              "                      coordinates            location  \n",
              "1        (39.2906737,-76.6071600)    600 E FAYETTE ST  \n",
              "2        (39.2898910,-76.6120720)  200 E BALTIMORE ST  \n",
              "5        (39.3208510,-76.6147390)   2700 N CALVERT ST  \n",
              "6        (39.3097096,-76.6513109)     2100 W NORTH AV  \n",
              "7        (39.2756929,-76.6664179)     3100 WILKENS AV  \n",
              "...                           ...                 ...  \n",
              "2799904  (39.3029101,-76.5728709)      1000 EDISON HY  \n",
              "2799907  (39.3115410,-76.6372050)     2300 MADISON AV  \n",
              "2799908  (39.3343844,-76.6843751)     4000 BOARMAN AV  \n",
              "2799912  (39.3041617,-76.5979135)    1500 E BIDDLE ST  \n",
              "2799913  (39.2934320,-76.6614790)  2700 W FRANKLIN ST  \n",
              "\n",
              "[1462596 rows x 8 columns]"
            ],
            "text/html": [
              "\n",
              "  <div id=\"df-38cdc01c-80e8-4f50-9e53-279cafb77b48\" class=\"colab-df-container\">\n",
              "    <div>\n",
              "<style scoped>\n",
              "    .dataframe tbody tr th:only-of-type {\n",
              "        vertical-align: middle;\n",
              "    }\n",
              "\n",
              "    .dataframe tbody tr th {\n",
              "        vertical-align: top;\n",
              "    }\n",
              "\n",
              "    .dataframe thead th {\n",
              "        text-align: right;\n",
              "    }\n",
              "</style>\n",
              "<table border=\"1\" class=\"dataframe\">\n",
              "  <thead>\n",
              "    <tr style=\"text-align: right;\">\n",
              "      <th></th>\n",
              "      <th>date</th>\n",
              "      <th>time</th>\n",
              "      <th>priority</th>\n",
              "      <th>district</th>\n",
              "      <th>description</th>\n",
              "      <th>callNumber</th>\n",
              "      <th>coordinates</th>\n",
              "      <th>location</th>\n",
              "    </tr>\n",
              "  </thead>\n",
              "  <tbody>\n",
              "    <tr>\n",
              "      <th>1</th>\n",
              "      <td>2015-07-13</td>\n",
              "      <td>10:47:00</td>\n",
              "      <td>3</td>\n",
              "      <td>CD</td>\n",
              "      <td>911/NO  VOICE</td>\n",
              "      <td>P151941003</td>\n",
              "      <td>(39.2906737,-76.6071600)</td>\n",
              "      <td>600 E FAYETTE ST</td>\n",
              "    </tr>\n",
              "    <tr>\n",
              "      <th>2</th>\n",
              "      <td>2015-07-13</td>\n",
              "      <td>10:42:00</td>\n",
              "      <td>3</td>\n",
              "      <td>CD</td>\n",
              "      <td>911/NO  VOICE</td>\n",
              "      <td>P151941004</td>\n",
              "      <td>(39.2898910,-76.6120720)</td>\n",
              "      <td>200 E BALTIMORE ST</td>\n",
              "    </tr>\n",
              "    <tr>\n",
              "      <th>5</th>\n",
              "      <td>2015-07-13</td>\n",
              "      <td>10:47:00</td>\n",
              "      <td>3</td>\n",
              "      <td>ND</td>\n",
              "      <td>FAMILY DISTURB</td>\n",
              "      <td>P151941007</td>\n",
              "      <td>(39.3208510,-76.6147390)</td>\n",
              "      <td>2700 N CALVERT ST</td>\n",
              "    </tr>\n",
              "    <tr>\n",
              "      <th>6</th>\n",
              "      <td>2015-07-13</td>\n",
              "      <td>10:46:00</td>\n",
              "      <td>4</td>\n",
              "      <td>WD</td>\n",
              "      <td>SILENT ALARM</td>\n",
              "      <td>P151941008</td>\n",
              "      <td>(39.3097096,-76.6513109)</td>\n",
              "      <td>2100 W NORTH AV</td>\n",
              "    </tr>\n",
              "    <tr>\n",
              "      <th>7</th>\n",
              "      <td>2015-07-13</td>\n",
              "      <td>10:49:00</td>\n",
              "      <td>2</td>\n",
              "      <td>SW</td>\n",
              "      <td>AUTO ACCIDENT</td>\n",
              "      <td>P151941010</td>\n",
              "      <td>(39.2756929,-76.6664179)</td>\n",
              "      <td>3100 WILKENS AV</td>\n",
              "    </tr>\n",
              "    <tr>\n",
              "      <th>...</th>\n",
              "      <td>...</td>\n",
              "      <td>...</td>\n",
              "      <td>...</td>\n",
              "      <td>...</td>\n",
              "      <td>...</td>\n",
              "      <td>...</td>\n",
              "      <td>...</td>\n",
              "      <td>...</td>\n",
              "    </tr>\n",
              "    <tr>\n",
              "      <th>2799904</th>\n",
              "      <td>2017-08-21</td>\n",
              "      <td>11:42:00</td>\n",
              "      <td>3</td>\n",
              "      <td>ED</td>\n",
              "      <td>911/NO  VOICE</td>\n",
              "      <td>P172331029</td>\n",
              "      <td>(39.3029101,-76.5728709)</td>\n",
              "      <td>1000 EDISON HY</td>\n",
              "    </tr>\n",
              "    <tr>\n",
              "      <th>2799907</th>\n",
              "      <td>2017-08-21</td>\n",
              "      <td>11:43:00</td>\n",
              "      <td>4</td>\n",
              "      <td>CD</td>\n",
              "      <td>SILENT ALARM</td>\n",
              "      <td>P172331034</td>\n",
              "      <td>(39.3115410,-76.6372050)</td>\n",
              "      <td>2300 MADISON AV</td>\n",
              "    </tr>\n",
              "    <tr>\n",
              "      <th>2799908</th>\n",
              "      <td>2017-08-21</td>\n",
              "      <td>11:43:00</td>\n",
              "      <td>3</td>\n",
              "      <td>NW</td>\n",
              "      <td>FAMILY DISTURB</td>\n",
              "      <td>P172331035</td>\n",
              "      <td>(39.3343844,-76.6843751)</td>\n",
              "      <td>4000 BOARMAN AV</td>\n",
              "    </tr>\n",
              "    <tr>\n",
              "      <th>2799912</th>\n",
              "      <td>2017-08-21</td>\n",
              "      <td>11:45:00</td>\n",
              "      <td>3</td>\n",
              "      <td>ED</td>\n",
              "      <td>COMMON ASSAULT</td>\n",
              "      <td>P172331041</td>\n",
              "      <td>(39.3041617,-76.5979135)</td>\n",
              "      <td>1500 E BIDDLE ST</td>\n",
              "    </tr>\n",
              "    <tr>\n",
              "      <th>2799913</th>\n",
              "      <td>2017-08-21</td>\n",
              "      <td>11:49:00</td>\n",
              "      <td>3</td>\n",
              "      <td>WD</td>\n",
              "      <td>DISORDERLY</td>\n",
              "      <td>P172331043</td>\n",
              "      <td>(39.2934320,-76.6614790)</td>\n",
              "      <td>2700 W FRANKLIN ST</td>\n",
              "    </tr>\n",
              "  </tbody>\n",
              "</table>\n",
              "<p>1462596 rows × 8 columns</p>\n",
              "</div>\n",
              "    <div class=\"colab-df-buttons\">\n",
              "\n",
              "  <div class=\"colab-df-container\">\n",
              "    <button class=\"colab-df-convert\" onclick=\"convertToInteractive('df-38cdc01c-80e8-4f50-9e53-279cafb77b48')\"\n",
              "            title=\"Convert this dataframe to an interactive table.\"\n",
              "            style=\"display:none;\">\n",
              "\n",
              "  <svg xmlns=\"http://www.w3.org/2000/svg\" height=\"24px\" viewBox=\"0 -960 960 960\">\n",
              "    <path d=\"M120-120v-720h720v720H120Zm60-500h600v-160H180v160Zm220 220h160v-160H400v160Zm0 220h160v-160H400v160ZM180-400h160v-160H180v160Zm440 0h160v-160H620v160ZM180-180h160v-160H180v160Zm440 0h160v-160H620v160Z\"/>\n",
              "  </svg>\n",
              "    </button>\n",
              "\n",
              "  <style>\n",
              "    .colab-df-container {\n",
              "      display:flex;\n",
              "      gap: 12px;\n",
              "    }\n",
              "\n",
              "    .colab-df-convert {\n",
              "      background-color: #E8F0FE;\n",
              "      border: none;\n",
              "      border-radius: 50%;\n",
              "      cursor: pointer;\n",
              "      display: none;\n",
              "      fill: #1967D2;\n",
              "      height: 32px;\n",
              "      padding: 0 0 0 0;\n",
              "      width: 32px;\n",
              "    }\n",
              "\n",
              "    .colab-df-convert:hover {\n",
              "      background-color: #E2EBFA;\n",
              "      box-shadow: 0px 1px 2px rgba(60, 64, 67, 0.3), 0px 1px 3px 1px rgba(60, 64, 67, 0.15);\n",
              "      fill: #174EA6;\n",
              "    }\n",
              "\n",
              "    .colab-df-buttons div {\n",
              "      margin-bottom: 4px;\n",
              "    }\n",
              "\n",
              "    [theme=dark] .colab-df-convert {\n",
              "      background-color: #3B4455;\n",
              "      fill: #D2E3FC;\n",
              "    }\n",
              "\n",
              "    [theme=dark] .colab-df-convert:hover {\n",
              "      background-color: #434B5C;\n",
              "      box-shadow: 0px 1px 3px 1px rgba(0, 0, 0, 0.15);\n",
              "      filter: drop-shadow(0px 1px 2px rgba(0, 0, 0, 0.3));\n",
              "      fill: #FFFFFF;\n",
              "    }\n",
              "  </style>\n",
              "\n",
              "    <script>\n",
              "      const buttonEl =\n",
              "        document.querySelector('#df-38cdc01c-80e8-4f50-9e53-279cafb77b48 button.colab-df-convert');\n",
              "      buttonEl.style.display =\n",
              "        google.colab.kernel.accessAllowed ? 'block' : 'none';\n",
              "\n",
              "      async function convertToInteractive(key) {\n",
              "        const element = document.querySelector('#df-38cdc01c-80e8-4f50-9e53-279cafb77b48');\n",
              "        const dataTable =\n",
              "          await google.colab.kernel.invokeFunction('convertToInteractive',\n",
              "                                                    [key], {});\n",
              "        if (!dataTable) return;\n",
              "\n",
              "        const docLinkHtml = 'Like what you see? Visit the ' +\n",
              "          '<a target=\"_blank\" href=https://colab.research.google.com/notebooks/data_table.ipynb>data table notebook</a>'\n",
              "          + ' to learn more about interactive tables.';\n",
              "        element.innerHTML = '';\n",
              "        dataTable['output_type'] = 'display_data';\n",
              "        await google.colab.output.renderOutput(dataTable, element);\n",
              "        const docLink = document.createElement('div');\n",
              "        docLink.innerHTML = docLinkHtml;\n",
              "        element.appendChild(docLink);\n",
              "      }\n",
              "    </script>\n",
              "  </div>\n",
              "\n",
              "\n",
              "<div id=\"df-cc2bab45-8744-4414-a9c0-b23603968597\">\n",
              "  <button class=\"colab-df-quickchart\" onclick=\"quickchart('df-cc2bab45-8744-4414-a9c0-b23603968597')\"\n",
              "            title=\"Suggest charts\"\n",
              "            style=\"display:none;\">\n",
              "\n",
              "<svg xmlns=\"http://www.w3.org/2000/svg\" height=\"24px\"viewBox=\"0 0 24 24\"\n",
              "     width=\"24px\">\n",
              "    <g>\n",
              "        <path d=\"M19 3H5c-1.1 0-2 .9-2 2v14c0 1.1.9 2 2 2h14c1.1 0 2-.9 2-2V5c0-1.1-.9-2-2-2zM9 17H7v-7h2v7zm4 0h-2V7h2v10zm4 0h-2v-4h2v4z\"/>\n",
              "    </g>\n",
              "</svg>\n",
              "  </button>\n",
              "\n",
              "<style>\n",
              "  .colab-df-quickchart {\n",
              "      --bg-color: #E8F0FE;\n",
              "      --fill-color: #1967D2;\n",
              "      --hover-bg-color: #E2EBFA;\n",
              "      --hover-fill-color: #174EA6;\n",
              "      --disabled-fill-color: #AAA;\n",
              "      --disabled-bg-color: #DDD;\n",
              "  }\n",
              "\n",
              "  [theme=dark] .colab-df-quickchart {\n",
              "      --bg-color: #3B4455;\n",
              "      --fill-color: #D2E3FC;\n",
              "      --hover-bg-color: #434B5C;\n",
              "      --hover-fill-color: #FFFFFF;\n",
              "      --disabled-bg-color: #3B4455;\n",
              "      --disabled-fill-color: #666;\n",
              "  }\n",
              "\n",
              "  .colab-df-quickchart {\n",
              "    background-color: var(--bg-color);\n",
              "    border: none;\n",
              "    border-radius: 50%;\n",
              "    cursor: pointer;\n",
              "    display: none;\n",
              "    fill: var(--fill-color);\n",
              "    height: 32px;\n",
              "    padding: 0;\n",
              "    width: 32px;\n",
              "  }\n",
              "\n",
              "  .colab-df-quickchart:hover {\n",
              "    background-color: var(--hover-bg-color);\n",
              "    box-shadow: 0 1px 2px rgba(60, 64, 67, 0.3), 0 1px 3px 1px rgba(60, 64, 67, 0.15);\n",
              "    fill: var(--button-hover-fill-color);\n",
              "  }\n",
              "\n",
              "  .colab-df-quickchart-complete:disabled,\n",
              "  .colab-df-quickchart-complete:disabled:hover {\n",
              "    background-color: var(--disabled-bg-color);\n",
              "    fill: var(--disabled-fill-color);\n",
              "    box-shadow: none;\n",
              "  }\n",
              "\n",
              "  .colab-df-spinner {\n",
              "    border: 2px solid var(--fill-color);\n",
              "    border-color: transparent;\n",
              "    border-bottom-color: var(--fill-color);\n",
              "    animation:\n",
              "      spin 1s steps(1) infinite;\n",
              "  }\n",
              "\n",
              "  @keyframes spin {\n",
              "    0% {\n",
              "      border-color: transparent;\n",
              "      border-bottom-color: var(--fill-color);\n",
              "      border-left-color: var(--fill-color);\n",
              "    }\n",
              "    20% {\n",
              "      border-color: transparent;\n",
              "      border-left-color: var(--fill-color);\n",
              "      border-top-color: var(--fill-color);\n",
              "    }\n",
              "    30% {\n",
              "      border-color: transparent;\n",
              "      border-left-color: var(--fill-color);\n",
              "      border-top-color: var(--fill-color);\n",
              "      border-right-color: var(--fill-color);\n",
              "    }\n",
              "    40% {\n",
              "      border-color: transparent;\n",
              "      border-right-color: var(--fill-color);\n",
              "      border-top-color: var(--fill-color);\n",
              "    }\n",
              "    60% {\n",
              "      border-color: transparent;\n",
              "      border-right-color: var(--fill-color);\n",
              "    }\n",
              "    80% {\n",
              "      border-color: transparent;\n",
              "      border-right-color: var(--fill-color);\n",
              "      border-bottom-color: var(--fill-color);\n",
              "    }\n",
              "    90% {\n",
              "      border-color: transparent;\n",
              "      border-bottom-color: var(--fill-color);\n",
              "    }\n",
              "  }\n",
              "</style>\n",
              "\n",
              "  <script>\n",
              "    async function quickchart(key) {\n",
              "      const quickchartButtonEl =\n",
              "        document.querySelector('#' + key + ' button');\n",
              "      quickchartButtonEl.disabled = true;  // To prevent multiple clicks.\n",
              "      quickchartButtonEl.classList.add('colab-df-spinner');\n",
              "      try {\n",
              "        const charts = await google.colab.kernel.invokeFunction(\n",
              "            'suggestCharts', [key], {});\n",
              "      } catch (error) {\n",
              "        console.error('Error during call to suggestCharts:', error);\n",
              "      }\n",
              "      quickchartButtonEl.classList.remove('colab-df-spinner');\n",
              "      quickchartButtonEl.classList.add('colab-df-quickchart-complete');\n",
              "    }\n",
              "    (() => {\n",
              "      let quickchartButtonEl =\n",
              "        document.querySelector('#df-cc2bab45-8744-4414-a9c0-b23603968597 button');\n",
              "      quickchartButtonEl.style.display =\n",
              "        google.colab.kernel.accessAllowed ? 'block' : 'none';\n",
              "    })();\n",
              "  </script>\n",
              "</div>\n",
              "\n",
              "  <div id=\"id_62e1945f-d55d-4917-9d60-b0cd18929bf1\">\n",
              "    <style>\n",
              "      .colab-df-generate {\n",
              "        background-color: #E8F0FE;\n",
              "        border: none;\n",
              "        border-radius: 50%;\n",
              "        cursor: pointer;\n",
              "        display: none;\n",
              "        fill: #1967D2;\n",
              "        height: 32px;\n",
              "        padding: 0 0 0 0;\n",
              "        width: 32px;\n",
              "      }\n",
              "\n",
              "      .colab-df-generate:hover {\n",
              "        background-color: #E2EBFA;\n",
              "        box-shadow: 0px 1px 2px rgba(60, 64, 67, 0.3), 0px 1px 3px 1px rgba(60, 64, 67, 0.15);\n",
              "        fill: #174EA6;\n",
              "      }\n",
              "\n",
              "      [theme=dark] .colab-df-generate {\n",
              "        background-color: #3B4455;\n",
              "        fill: #D2E3FC;\n",
              "      }\n",
              "\n",
              "      [theme=dark] .colab-df-generate:hover {\n",
              "        background-color: #434B5C;\n",
              "        box-shadow: 0px 1px 3px 1px rgba(0, 0, 0, 0.15);\n",
              "        filter: drop-shadow(0px 1px 2px rgba(0, 0, 0, 0.3));\n",
              "        fill: #FFFFFF;\n",
              "      }\n",
              "    </style>\n",
              "    <button class=\"colab-df-generate\" onclick=\"generateWithVariable('top_10_df')\"\n",
              "            title=\"Generate code using this dataframe.\"\n",
              "            style=\"display:none;\">\n",
              "\n",
              "  <svg xmlns=\"http://www.w3.org/2000/svg\" height=\"24px\"viewBox=\"0 0 24 24\"\n",
              "       width=\"24px\">\n",
              "    <path d=\"M7,19H8.4L18.45,9,17,7.55,7,17.6ZM5,21V16.75L18.45,3.32a2,2,0,0,1,2.83,0l1.4,1.43a1.91,1.91,0,0,1,.58,1.4,1.91,1.91,0,0,1-.58,1.4L9.25,21ZM18.45,9,17,7.55Zm-12,3A5.31,5.31,0,0,0,4.9,8.1,5.31,5.31,0,0,0,1,6.5,5.31,5.31,0,0,0,4.9,4.9,5.31,5.31,0,0,0,6.5,1,5.31,5.31,0,0,0,8.1,4.9,5.31,5.31,0,0,0,12,6.5,5.46,5.46,0,0,0,6.5,12Z\"/>\n",
              "  </svg>\n",
              "    </button>\n",
              "    <script>\n",
              "      (() => {\n",
              "      const buttonEl =\n",
              "        document.querySelector('#id_62e1945f-d55d-4917-9d60-b0cd18929bf1 button.colab-df-generate');\n",
              "      buttonEl.style.display =\n",
              "        google.colab.kernel.accessAllowed ? 'block' : 'none';\n",
              "\n",
              "      buttonEl.onclick = () => {\n",
              "        google.colab.notebook.generateWithVariable('top_10_df');\n",
              "      }\n",
              "      })();\n",
              "    </script>\n",
              "  </div>\n",
              "\n",
              "    </div>\n",
              "  </div>\n"
            ],
            "application/vnd.google.colaboratory.intrinsic+json": {
              "type": "dataframe",
              "variable_name": "top_10_df"
            }
          },
          "metadata": {},
          "execution_count": 83
        }
      ],
      "source": [
        "top_10_common_desc = updated_priority_df['description'].value_counts().head(10).index.tolist()\n",
        "top_10_df = updated_priority_df[updated_priority_df['description'].isin(top_10_common_desc)]\n",
        "top_10_df"
      ]
    },
    {
      "cell_type": "markdown",
      "metadata": {
        "id": "AW0PAy316IXp"
      },
      "source": [
        "# **Exploratory Data Analysis and Visualizations**"
      ]
    },
    {
      "cell_type": "markdown",
      "metadata": {
        "id": "NpMUoDH26SbB"
      },
      "source": [
        "For Exploratory Data Analysis and Visualizations, we will focus on specific features in different questions and run statistical tests comparing key features such as District v. Priority, Central Tendencies of 911 calls, Description v. Priority, and Call Times (AM and PM) v. Priority"
      ]
    },
    {
      "cell_type": "markdown",
      "metadata": {
        "id": "bvOyGerG6zAJ"
      },
      "source": [
        "## **Analysis: District vs. Priority:**"
      ]
    },
    {
      "cell_type": "markdown",
      "metadata": {
        "id": "47cBh3CeNuY7"
      },
      "source": [
        "It is unclear whether certain districts in Baltimore deal with more dangerous crimes compared to other districts. With an ANOVA test, we can conclude whether the district has an impact of the priority that the crime is considered to the police force.\n",
        "\n",
        "*H0:* The district of where the crime was commited does not have an effect on the priority of the 911 call.     \n",
        "\n",
        "*HA:* The district of where the crime was commited does have an effect on the priority of the 911 call.     \n"
      ]
    },
    {
      "cell_type": "markdown",
      "metadata": {
        "id": "m2tmOIcqfrzu"
      },
      "source": [
        "We're now going to find the average priority per district and graph it. updated_priority_df is used since it has converted priority to numerical values."
      ]
    },
    {
      "cell_type": "code",
      "execution_count": null,
      "metadata": {
        "id": "p5JBsyDXfrVl",
        "colab": {
          "base_uri": "https://localhost:8080/",
          "height": 490
        },
        "outputId": "d26647c0-b255-41a0-fe5a-155769c88d10"
      },
      "outputs": [
        {
          "output_type": "display_data",
          "data": {
            "text/plain": [
              "<Figure size 640x480 with 1 Axes>"
            ],
            "image/png": "[encoded data removed]"
          },
          "metadata": {}
        }
      ],
      "source": [
        "average_priority = updated_priority_df.groupby(\"district\")[\"priority\"].mean()\n",
        "plt.bar(average_priority.index, average_priority.values, color = 'darkseagreen', edgecolor = 'black')\n",
        "plt.xticks(rotation = 35)\n",
        "plt.xlabel(\"Districts\")\n",
        "plt.ylabel(\"Priority of the 911 Call\")\n",
        "plt.title(\"Relationship between Districts and the Priority of the 911 Call\")\n",
        "plt.show()"
      ]
    },
    {
      "cell_type": "markdown",
      "metadata": {
        "id": "m71b31jxJPPu"
      },
      "source": [
        "We are going to conduct an ANOVA test to see if the districts actually has an influence on the average priority of the call that is gathered from that district."
      ]
    },
    {
      "cell_type": "code",
      "execution_count": null,
      "metadata": {
        "id": "cjPrhJvwJyCy",
        "colab": {
          "base_uri": "https://localhost:8080/"
        },
        "outputId": "49711da0-a3b3-4b3a-9851-2690724ec9cb"
      },
      "outputs": [
        {
          "output_type": "stream",
          "name": "stdout",
          "text": [
            "p-value: 0.0\n",
            "Min-value: 1.3039298161278692\n",
            "Max-value: 4.0\n"
          ]
        }
      ],
      "source": [
        "CD_df = updated_priority_df[updated_priority_df['district'] == 'CD']['priority']\n",
        "CW_df = updated_priority_df[updated_priority_df['district'] == 'CW']['priority']\n",
        "ED_df = updated_priority_df[updated_priority_df['district'] == 'ED']['priority']\n",
        "EVT1_df = updated_priority_df[updated_priority_df['district'] == 'EVT1']['priority']\n",
        "EVT2_df = updated_priority_df[updated_priority_df['district'] == 'EVT2']['priority']\n",
        "EVT3_df = updated_priority_df[updated_priority_df['district'] == 'EVT3']['priority']\n",
        "FIR1_df = updated_priority_df[updated_priority_df['district'] == 'FIR1']['priority']\n",
        "HP_df = updated_priority_df[updated_priority_df['district'] == 'HP']['priority']\n",
        "INFO_df = updated_priority_df[updated_priority_df['district'] == 'INFO']['priority']\n",
        "ND_df = updated_priority_df[updated_priority_df['district'] == 'ND']['priority']\n",
        "NE_df = updated_priority_df[updated_priority_df['district'] == 'NE']['priority']\n",
        "NW_df = updated_priority_df[updated_priority_df['district'] == 'NW']['priority']\n",
        "SD_df = updated_priority_df[updated_priority_df['district'] == 'SD']['priority']\n",
        "SE_df = updated_priority_df[updated_priority_df['district'] == 'SE']['priority']\n",
        "SS_df = updated_priority_df[updated_priority_df['district'] == 'SS']['priority']\n",
        "SW_df = updated_priority_df[updated_priority_df['district'] == 'SW']['priority']\n",
        "TRU_df = updated_priority_df[updated_priority_df['district'] == 'TRU']['priority']\n",
        "WD_df = updated_priority_df[updated_priority_df['district'] == 'WD']['priority']\n",
        "\n",
        "result = stats.f_oneway(CD_df, CW_df, ED_df, EVT1_df, EVT2_df, EVT3_df, FIR1_df, HP_df\n",
        "                        , INFO_df, ND_df, NE_df, NW_df, SD_df, SE_df, SS_df, SW_df, TRU_df\n",
        "                        , WD_df)\n",
        "\n",
        "print(\"p-value: \" + str(result.pvalue))\n",
        "print(\"Min-value: \" + str(average_priority.min()))\n",
        "print(\"Max-value: \" + str(average_priority.max()))"
      ]
    },
    {
      "cell_type": "markdown",
      "metadata": {
        "id": "NWK7_qPzLn-a"
      },
      "source": [
        "## **Conclusion: District vs. Priority:**\n",
        "\n",
        "\n",
        "With a significance level (α) of 0.05, we require a p-value less than or equal to α (p ≤ 0.05) to reject the null hypothesis. Since the p-value is 0.0, we can reject the null hypothesis as 0.0 ≤ 0.05. This supports the alternative hypothesis: **The district where the crime occurred does influence the priority of the 911 call.** This suggests that different districts handle calls with varying average priorities. The minimum priority rating across all districts is 1.3, categorized as \"Low Priority.\" According to the bar chart, District SS has the lowest average call priority in Baltimore. On the other hand, the maximum priority rating is 4.0, and the bar chart shows that Districts EVT3 and INFO have the highest average call priorities, indicating that their calls are generally classified as \"High Priority.\""
      ]
    },
    {
      "cell_type": "markdown",
      "metadata": {
        "id": "3X1QXYssWMgq"
      },
      "source": [
        "## **Analysis: Central Tendacies of Number of 911 Calls**"
      ]
    },
    {
      "cell_type": "markdown",
      "metadata": {
        "id": "e3LVpGI8WSte"
      },
      "source": [
        "Baltimore is considered one of the most dangerous cities within the United States. A question that can be brought up is **what the overall call priority is for the entire city.** Another question that can be brought up is what is the number of 911 calls per district and which district has the most/least amount of calls."
      ]
    },
    {
      "cell_type": "code",
      "execution_count": null,
      "metadata": {
        "id": "s6NQhIe8WU-x",
        "colab": {
          "base_uri": "https://localhost:8080/",
          "height": 648
        },
        "outputId": "1897650f-8e46-49e7-e190-8fc69a87982d"
      },
      "outputs": [
        {
          "output_type": "stream",
          "name": "stdout",
          "text": [
            "0    Overall Call Priority: Medium\n",
            "Name: priority, dtype: object\n"
          ]
        },
        {
          "output_type": "execute_result",
          "data": {
            "text/plain": [
              "   district  numberOfCalls\n",
              "0        CD         306837\n",
              "1        CW          37236\n",
              "2        ED         262571\n",
              "3      EVT1             39\n",
              "4      EVT2             43\n",
              "5      EVT3             10\n",
              "6      FIR1              2\n",
              "7        HP              2\n",
              "8      INFO             11\n",
              "9        ND         280099\n",
              "10       NE         409919\n",
              "11       NW         278983\n",
              "12       SD         310219\n",
              "13       SE         303182\n",
              "14       SS           8321\n",
              "15       SW         309317\n",
              "16      TRU          19994\n",
              "17       WD         265671"
            ],
            "text/html": [
              "\n",
              "  <div id=\"df-fb00c14c-93d7-4a7a-84a5-9339c2fc5057\" class=\"colab-df-container\">\n",
              "    <div>\n",
              "<style scoped>\n",
              "    .dataframe tbody tr th:only-of-type {\n",
              "        vertical-align: middle;\n",
              "    }\n",
              "\n",
              "    .dataframe tbody tr th {\n",
              "        vertical-align: top;\n",
              "    }\n",
              "\n",
              "    .dataframe thead th {\n",
              "        text-align: right;\n",
              "    }\n",
              "</style>\n",
              "<table border=\"1\" class=\"dataframe\">\n",
              "  <thead>\n",
              "    <tr style=\"text-align: right;\">\n",
              "      <th></th>\n",
              "      <th>district</th>\n",
              "      <th>numberOfCalls</th>\n",
              "    </tr>\n",
              "  </thead>\n",
              "  <tbody>\n",
              "    <tr>\n",
              "      <th>0</th>\n",
              "      <td>CD</td>\n",
              "      <td>306837</td>\n",
              "    </tr>\n",
              "    <tr>\n",
              "      <th>1</th>\n",
              "      <td>CW</td>\n",
              "      <td>37236</td>\n",
              "    </tr>\n",
              "    <tr>\n",
              "      <th>2</th>\n",
              "      <td>ED</td>\n",
              "      <td>262571</td>\n",
              "    </tr>\n",
              "    <tr>\n",
              "      <th>3</th>\n",
              "      <td>EVT1</td>\n",
              "      <td>39</td>\n",
              "    </tr>\n",
              "    <tr>\n",
              "      <th>4</th>\n",
              "      <td>EVT2</td>\n",
              "      <td>43</td>\n",
              "    </tr>\n",
              "    <tr>\n",
              "      <th>5</th>\n",
              "      <td>EVT3</td>\n",
              "      <td>10</td>\n",
              "    </tr>\n",
              "    <tr>\n",
              "      <th>6</th>\n",
              "      <td>FIR1</td>\n",
              "      <td>2</td>\n",
              "    </tr>\n",
              "    <tr>\n",
              "      <th>7</th>\n",
              "      <td>HP</td>\n",
              "      <td>2</td>\n",
              "    </tr>\n",
              "    <tr>\n",
              "      <th>8</th>\n",
              "      <td>INFO</td>\n",
              "      <td>11</td>\n",
              "    </tr>\n",
              "    <tr>\n",
              "      <th>9</th>\n",
              "      <td>ND</td>\n",
              "      <td>280099</td>\n",
              "    </tr>\n",
              "    <tr>\n",
              "      <th>10</th>\n",
              "      <td>NE</td>\n",
              "      <td>409919</td>\n",
              "    </tr>\n",
              "    <tr>\n",
              "      <th>11</th>\n",
              "      <td>NW</td>\n",
              "      <td>278983</td>\n",
              "    </tr>\n",
              "    <tr>\n",
              "      <th>12</th>\n",
              "      <td>SD</td>\n",
              "      <td>310219</td>\n",
              "    </tr>\n",
              "    <tr>\n",
              "      <th>13</th>\n",
              "      <td>SE</td>\n",
              "      <td>303182</td>\n",
              "    </tr>\n",
              "    <tr>\n",
              "      <th>14</th>\n",
              "      <td>SS</td>\n",
              "      <td>8321</td>\n",
              "    </tr>\n",
              "    <tr>\n",
              "      <th>15</th>\n",
              "      <td>SW</td>\n",
              "      <td>309317</td>\n",
              "    </tr>\n",
              "    <tr>\n",
              "      <th>16</th>\n",
              "      <td>TRU</td>\n",
              "      <td>19994</td>\n",
              "    </tr>\n",
              "    <tr>\n",
              "      <th>17</th>\n",
              "      <td>WD</td>\n",
              "      <td>265671</td>\n",
              "    </tr>\n",
              "  </tbody>\n",
              "</table>\n",
              "</div>\n",
              "    <div class=\"colab-df-buttons\">\n",
              "\n",
              "  <div class=\"colab-df-container\">\n",
              "    <button class=\"colab-df-convert\" onclick=\"convertToInteractive('df-fb00c14c-93d7-4a7a-84a5-9339c2fc5057')\"\n",
              "            title=\"Convert this dataframe to an interactive table.\"\n",
              "            style=\"display:none;\">\n",
              "\n",
              "  <svg xmlns=\"http://www.w3.org/2000/svg\" height=\"24px\" viewBox=\"0 -960 960 960\">\n",
              "    <path d=\"M120-120v-720h720v720H120Zm60-500h600v-160H180v160Zm220 220h160v-160H400v160Zm0 220h160v-160H400v160ZM180-400h160v-160H180v160Zm440 0h160v-160H620v160ZM180-180h160v-160H180v160Zm440 0h160v-160H620v160Z\"/>\n",
              "  </svg>\n",
              "    </button>\n",
              "\n",
              "  <style>\n",
              "    .colab-df-container {\n",
              "      display:flex;\n",
              "      gap: 12px;\n",
              "    }\n",
              "\n",
              "    .colab-df-convert {\n",
              "      background-color: #E8F0FE;\n",
              "      border: none;\n",
              "      border-radius: 50%;\n",
              "      cursor: pointer;\n",
              "      display: none;\n",
              "      fill: #1967D2;\n",
              "      height: 32px;\n",
              "      padding: 0 0 0 0;\n",
              "      width: 32px;\n",
              "    }\n",
              "\n",
              "    .colab-df-convert:hover {\n",
              "      background-color: #E2EBFA;\n",
              "      box-shadow: 0px 1px 2px rgba(60, 64, 67, 0.3), 0px 1px 3px 1px rgba(60, 64, 67, 0.15);\n",
              "      fill: #174EA6;\n",
              "    }\n",
              "\n",
              "    .colab-df-buttons div {\n",
              "      margin-bottom: 4px;\n",
              "    }\n",
              "\n",
              "    [theme=dark] .colab-df-convert {\n",
              "      background-color: #3B4455;\n",
              "      fill: #D2E3FC;\n",
              "    }\n",
              "\n",
              "    [theme=dark] .colab-df-convert:hover {\n",
              "      background-color: #434B5C;\n",
              "      box-shadow: 0px 1px 3px 1px rgba(0, 0, 0, 0.15);\n",
              "      filter: drop-shadow(0px 1px 2px rgba(0, 0, 0, 0.3));\n",
              "      fill: #FFFFFF;\n",
              "    }\n",
              "  </style>\n",
              "\n",
              "    <script>\n",
              "      const buttonEl =\n",
              "        document.querySelector('#df-fb00c14c-93d7-4a7a-84a5-9339c2fc5057 button.colab-df-convert');\n",
              "      buttonEl.style.display =\n",
              "        google.colab.kernel.accessAllowed ? 'block' : 'none';\n",
              "\n",
              "      async function convertToInteractive(key) {\n",
              "        const element = document.querySelector('#df-fb00c14c-93d7-4a7a-84a5-9339c2fc5057');\n",
              "        const dataTable =\n",
              "          await google.colab.kernel.invokeFunction('convertToInteractive',\n",
              "                                                    [key], {});\n",
              "        if (!dataTable) return;\n",
              "\n",
              "        const docLinkHtml = 'Like what you see? Visit the ' +\n",
              "          '<a target=\"_blank\" href=https://colab.research.google.com/notebooks/data_table.ipynb>data table notebook</a>'\n",
              "          + ' to learn more about interactive tables.';\n",
              "        element.innerHTML = '';\n",
              "        dataTable['output_type'] = 'display_data';\n",
              "        await google.colab.output.renderOutput(dataTable, element);\n",
              "        const docLink = document.createElement('div');\n",
              "        docLink.innerHTML = docLinkHtml;\n",
              "        element.appendChild(docLink);\n",
              "      }\n",
              "    </script>\n",
              "  </div>\n",
              "\n",
              "\n",
              "<div id=\"df-d8f29c09-48d6-461f-850d-f4bb25fd3c57\">\n",
              "  <button class=\"colab-df-quickchart\" onclick=\"quickchart('df-d8f29c09-48d6-461f-850d-f4bb25fd3c57')\"\n",
              "            title=\"Suggest charts\"\n",
              "            style=\"display:none;\">\n",
              "\n",
              "<svg xmlns=\"http://www.w3.org/2000/svg\" height=\"24px\"viewBox=\"0 0 24 24\"\n",
              "     width=\"24px\">\n",
              "    <g>\n",
              "        <path d=\"M19 3H5c-1.1 0-2 .9-2 2v14c0 1.1.9 2 2 2h14c1.1 0 2-.9 2-2V5c0-1.1-.9-2-2-2zM9 17H7v-7h2v7zm4 0h-2V7h2v10zm4 0h-2v-4h2v4z\"/>\n",
              "    </g>\n",
              "</svg>\n",
              "  </button>\n",
              "\n",
              "<style>\n",
              "  .colab-df-quickchart {\n",
              "      --bg-color: #E8F0FE;\n",
              "      --fill-color: #1967D2;\n",
              "      --hover-bg-color: #E2EBFA;\n",
              "      --hover-fill-color: #174EA6;\n",
              "      --disabled-fill-color: #AAA;\n",
              "      --disabled-bg-color: #DDD;\n",
              "  }\n",
              "\n",
              "  [theme=dark] .colab-df-quickchart {\n",
              "      --bg-color: #3B4455;\n",
              "      --fill-color: #D2E3FC;\n",
              "      --hover-bg-color: #434B5C;\n",
              "      --hover-fill-color: #FFFFFF;\n",
              "      --disabled-bg-color: #3B4455;\n",
              "      --disabled-fill-color: #666;\n",
              "  }\n",
              "\n",
              "  .colab-df-quickchart {\n",
              "    background-color: var(--bg-color);\n",
              "    border: none;\n",
              "    border-radius: 50%;\n",
              "    cursor: pointer;\n",
              "    display: none;\n",
              "    fill: var(--fill-color);\n",
              "    height: 32px;\n",
              "    padding: 0;\n",
              "    width: 32px;\n",
              "  }\n",
              "\n",
              "  .colab-df-quickchart:hover {\n",
              "    background-color: var(--hover-bg-color);\n",
              "    box-shadow: 0 1px 2px rgba(60, 64, 67, 0.3), 0 1px 3px 1px rgba(60, 64, 67, 0.15);\n",
              "    fill: var(--button-hover-fill-color);\n",
              "  }\n",
              "\n",
              "  .colab-df-quickchart-complete:disabled,\n",
              "  .colab-df-quickchart-complete:disabled:hover {\n",
              "    background-color: var(--disabled-bg-color);\n",
              "    fill: var(--disabled-fill-color);\n",
              "    box-shadow: none;\n",
              "  }\n",
              "\n",
              "  .colab-df-spinner {\n",
              "    border: 2px solid var(--fill-color);\n",
              "    border-color: transparent;\n",
              "    border-bottom-color: var(--fill-color);\n",
              "    animation:\n",
              "      spin 1s steps(1) infinite;\n",
              "  }\n",
              "\n",
              "  @keyframes spin {\n",
              "    0% {\n",
              "      border-color: transparent;\n",
              "      border-bottom-color: var(--fill-color);\n",
              "      border-left-color: var(--fill-color);\n",
              "    }\n",
              "    20% {\n",
              "      border-color: transparent;\n",
              "      border-left-color: var(--fill-color);\n",
              "      border-top-color: var(--fill-color);\n",
              "    }\n",
              "    30% {\n",
              "      border-color: transparent;\n",
              "      border-left-color: var(--fill-color);\n",
              "      border-top-color: var(--fill-color);\n",
              "      border-right-color: var(--fill-color);\n",
              "    }\n",
              "    40% {\n",
              "      border-color: transparent;\n",
              "      border-right-color: var(--fill-color);\n",
              "      border-top-color: var(--fill-color);\n",
              "    }\n",
              "    60% {\n",
              "      border-color: transparent;\n",
              "      border-right-color: var(--fill-color);\n",
              "    }\n",
              "    80% {\n",
              "      border-color: transparent;\n",
              "      border-right-color: var(--fill-color);\n",
              "      border-bottom-color: var(--fill-color);\n",
              "    }\n",
              "    90% {\n",
              "      border-color: transparent;\n",
              "      border-bottom-color: var(--fill-color);\n",
              "    }\n",
              "  }\n",
              "</style>\n",
              "\n",
              "  <script>\n",
              "    async function quickchart(key) {\n",
              "      const quickchartButtonEl =\n",
              "        document.querySelector('#' + key + ' button');\n",
              "      quickchartButtonEl.disabled = true;  // To prevent multiple clicks.\n",
              "      quickchartButtonEl.classList.add('colab-df-spinner');\n",
              "      try {\n",
              "        const charts = await google.colab.kernel.invokeFunction(\n",
              "            'suggestCharts', [key], {});\n",
              "      } catch (error) {\n",
              "        console.error('Error during call to suggestCharts:', error);\n",
              "      }\n",
              "      quickchartButtonEl.classList.remove('colab-df-spinner');\n",
              "      quickchartButtonEl.classList.add('colab-df-quickchart-complete');\n",
              "    }\n",
              "    (() => {\n",
              "      let quickchartButtonEl =\n",
              "        document.querySelector('#df-d8f29c09-48d6-461f-850d-f4bb25fd3c57 button');\n",
              "      quickchartButtonEl.style.display =\n",
              "        google.colab.kernel.accessAllowed ? 'block' : 'none';\n",
              "    })();\n",
              "  </script>\n",
              "</div>\n",
              "\n",
              "  <div id=\"id_32fbec01-a836-461f-8be8-50fbb845e40b\">\n",
              "    <style>\n",
              "      .colab-df-generate {\n",
              "        background-color: #E8F0FE;\n",
              "        border: none;\n",
              "        border-radius: 50%;\n",
              "        cursor: pointer;\n",
              "        display: none;\n",
              "        fill: #1967D2;\n",
              "        height: 32px;\n",
              "        padding: 0 0 0 0;\n",
              "        width: 32px;\n",
              "      }\n",
              "\n",
              "      .colab-df-generate:hover {\n",
              "        background-color: #E2EBFA;\n",
              "        box-shadow: 0px 1px 2px rgba(60, 64, 67, 0.3), 0px 1px 3px 1px rgba(60, 64, 67, 0.15);\n",
              "        fill: #174EA6;\n",
              "      }\n",
              "\n",
              "      [theme=dark] .colab-df-generate {\n",
              "        background-color: #3B4455;\n",
              "        fill: #D2E3FC;\n",
              "      }\n",
              "\n",
              "      [theme=dark] .colab-df-generate:hover {\n",
              "        background-color: #434B5C;\n",
              "        box-shadow: 0px 1px 3px 1px rgba(0, 0, 0, 0.15);\n",
              "        filter: drop-shadow(0px 1px 2px rgba(0, 0, 0, 0.3));\n",
              "        fill: #FFFFFF;\n",
              "      }\n",
              "    </style>\n",
              "    <button class=\"colab-df-generate\" onclick=\"generateWithVariable('number_of_calls_df')\"\n",
              "            title=\"Generate code using this dataframe.\"\n",
              "            style=\"display:none;\">\n",
              "\n",
              "  <svg xmlns=\"http://www.w3.org/2000/svg\" height=\"24px\"viewBox=\"0 0 24 24\"\n",
              "       width=\"24px\">\n",
              "    <path d=\"M7,19H8.4L18.45,9,17,7.55,7,17.6ZM5,21V16.75L18.45,3.32a2,2,0,0,1,2.83,0l1.4,1.43a1.91,1.91,0,0,1,.58,1.4,1.91,1.91,0,0,1-.58,1.4L9.25,21ZM18.45,9,17,7.55Zm-12,3A5.31,5.31,0,0,0,4.9,8.1,5.31,5.31,0,0,0,1,6.5,5.31,5.31,0,0,0,4.9,4.9,5.31,5.31,0,0,0,6.5,1,5.31,5.31,0,0,0,8.1,4.9,5.31,5.31,0,0,0,12,6.5,5.46,5.46,0,0,0,6.5,12Z\"/>\n",
              "  </svg>\n",
              "    </button>\n",
              "    <script>\n",
              "      (() => {\n",
              "      const buttonEl =\n",
              "        document.querySelector('#id_32fbec01-a836-461f-8be8-50fbb845e40b button.colab-df-generate');\n",
              "      buttonEl.style.display =\n",
              "        google.colab.kernel.accessAllowed ? 'block' : 'none';\n",
              "\n",
              "      buttonEl.onclick = () => {\n",
              "        google.colab.notebook.generateWithVariable('number_of_calls_df');\n",
              "      }\n",
              "      })();\n",
              "    </script>\n",
              "  </div>\n",
              "\n",
              "    </div>\n",
              "  </div>\n"
            ],
            "application/vnd.google.colaboratory.intrinsic+json": {
              "type": "dataframe",
              "variable_name": "number_of_calls_df",
              "summary": "{\n  \"name\": \"number_of_calls_df\",\n  \"rows\": 18,\n  \"fields\": [\n    {\n      \"column\": \"district\",\n      \"properties\": {\n        \"dtype\": \"string\",\n        \"num_unique_values\": 18,\n        \"samples\": [\n          \"CD\",\n          \"CW\",\n          \"INFO\"\n        ],\n        \"semantic_type\": \"\",\n        \"description\": \"\"\n      }\n    },\n    {\n      \"column\": \"numberOfCalls\",\n      \"properties\": {\n        \"dtype\": \"number\",\n        \"std\": 155387,\n        \"min\": 2,\n        \"max\": 409919,\n        \"num_unique_values\": 17,\n        \"samples\": [\n          306837,\n          37236,\n          10\n        ],\n        \"semantic_type\": \"\",\n        \"description\": \"\"\n      }\n    }\n  ]\n}"
            }
          },
          "metadata": {},
          "execution_count": 86
        }
      ],
      "source": [
        "# grab the most common call priority\n",
        "print(\"Overall Call Priority: \" + new_df['priority'].mode())\n",
        "\n",
        "# grab the number of calls per districts\n",
        "number_of_calls_df = updated_priority_df.groupby('district').size().reset_index(name='numberOfCalls')\n",
        "number_of_calls_df"
      ]
    },
    {
      "cell_type": "markdown",
      "metadata": {
        "id": "2UzA5g7XazrM"
      },
      "source": [
        "Create a box plot to show the distribution of calls that each district gets. Each data point is the total number of calls that is associated with a district. There should be 18 data points."
      ]
    },
    {
      "cell_type": "code",
      "execution_count": null,
      "metadata": {
        "id": "zk4VB2z7ZIsT",
        "colab": {
          "base_uri": "https://localhost:8080/",
          "height": 452
        },
        "outputId": "f098568e-33fa-4f69-c058-073ba0623c12"
      },
      "outputs": [
        {
          "output_type": "display_data",
          "data": {
            "text/plain": [
              "<Figure size 640x480 with 1 Axes>"
            ],
            "image/png": "[encoded data removed]"
          },
          "metadata": {}
        }
      ],
      "source": [
        "fig, ax = plt.subplots()\n",
        "boxplot_stats = ax.boxplot(number_of_calls_df['numberOfCalls'])\n",
        "ax.set_ylabel(\"Number of Calls Per District\")\n",
        "ax.set_title(\"Box Plot for Number of Calls Per District\")\n",
        "plt.show()"
      ]
    },
    {
      "cell_type": "markdown",
      "metadata": {
        "id": "-unQT8a0bLxB"
      },
      "source": [
        "Get descriptive statistics for the box plot."
      ]
    },
    {
      "cell_type": "code",
      "execution_count": null,
      "metadata": {
        "id": "EUrSkRyKbRX5",
        "colab": {
          "base_uri": "https://localhost:8080/"
        },
        "outputId": "79c6a629-4ab1-48f0-9a62-93bbb2d36176"
      },
      "outputs": [
        {
          "output_type": "stream",
          "name": "stdout",
          "text": [
            "The minimum value from the boxplot is: 2.0\n",
            "The maximum value from the boxplot is: 409919.0\n",
            "The median value from the boxplot is: 149903.5\n"
          ]
        }
      ],
      "source": [
        "min_value = boxplot_stats['whiskers'][0].get_ydata()[1]\n",
        "max_value = boxplot_stats['whiskers'][1].get_ydata()[1]\n",
        "median_value = boxplot_stats['medians'][0].get_ydata()[0]\n",
        "\n",
        "print(\"The minimum value from the boxplot is: \" + str(min_value))\n",
        "print(\"The maximum value from the boxplot is: \" + str(max_value))\n",
        "print(\"The median value from the boxplot is: \" + str(median_value))"
      ]
    },
    {
      "cell_type": "markdown",
      "metadata": {
        "id": "LD0RxQN4WVwo"
      },
      "source": [
        "## **Conclusion: Central Tendacies of Number of 911 Calls**\n",
        "\n",
        "It can be concluded that the typical call in Baltimore City falls under the \"Medium Priority\" category. Crimes such as burglary, common assault, and auto theft are examples of incidents classified as \"Medium Priority,\" highlighting some of the common offenses in Baltimore.\n",
        "\n",
        "After analyzing the number of calls per district, it's notable that districts EVT1, EVT2, EVT3, FIR1, HP, and INFO have only a few calls compared to the hundreds of thousands recorded in other districts. To explore this disproportionate distribution, a boxplot was generated to check for outliers. However, the boxplot does not indicate any outliers from the dataset. In fact, the minimum value shown on the boxplot is 2, which aligns with the minimum value in the \"numberOfCalls\" column.\n",
        "\n",
        "\n",
        "The data also reveals that District NE has the highest number of 911 calls, with 409,919 calls recorded, making it the maximum value in the boxplot. Although the dataset covers the period from 2015 to the present, the 409,919 calls from District NE highlight the frequency of crime in this area. Additionally, the median number of calls across all districts is 149,903."
      ]
    },
    {
      "cell_type": "markdown",
      "metadata": {
        "id": "crA8CDjNCEjp"
      },
      "source": [
        "## **Analysis: Description vs. Priority**\n",
        "\n",
        "\n"
      ]
    },
    {
      "cell_type": "markdown",
      "metadata": {
        "id": "tuLCvmRiDCo5"
      },
      "source": [
        "It is important to determine how the police department ranks the priority certain situations and crimes compared to others. With a Chi-Squared test, we can determine how the descriptions of calls end up being prioritized.\n",
        "\n",
        "H0: The description of a crime does not have an effect on the priority of the 911 call.\n",
        "\n",
        "HA: The description of a crime does have an effect on the priority of the 911 call."
      ]
    },
    {
      "cell_type": "markdown",
      "metadata": {
        "id": "kHbUAQbW4f3H"
      },
      "source": [
        "A crosstab with the top 10 most popular descriptions (top_10_df) is taken"
      ]
    },
    {
      "cell_type": "code",
      "execution_count": null,
      "metadata": {
        "id": "OgnGHN6aLQgC",
        "colab": {
          "base_uri": "https://localhost:8080/",
          "height": 394
        },
        "outputId": "178eb3f8-82a9-4e06-956d-0b52ff4cbfdd"
      },
      "outputs": [
        {
          "output_type": "execute_result",
          "data": {
            "text/plain": [
              "priority              1       2       3       4\n",
              "description                                    \n",
              "911/NO  VOICE         0       2  457467       0\n",
              "AUTO ACCIDENT         1  106896    2818      25\n",
              "COMMON ASSAULT        0       8  117475     270\n",
              "DISORDERLY            1       4  237979     220\n",
              "FAMILY DISTURB        1       2   68107      41\n",
              "NARCOTICSOutside      0       0   95841       3\n",
              "OTHER                 5   60646    1062     141\n",
              "Repairs/Service   67050       0       0       0\n",
              "SILENT ALARM          0       0       2   78618\n",
              "Traffic Stop          0   20848       0  147063"
            ],
            "text/html": [
              "\n",
              "  <div id=\"df-3e9c4e79-f50c-4c90-9cdf-a66c030bb0c1\" class=\"colab-df-container\">\n",
              "    <div>\n",
              "<style scoped>\n",
              "    .dataframe tbody tr th:only-of-type {\n",
              "        vertical-align: middle;\n",
              "    }\n",
              "\n",
              "    .dataframe tbody tr th {\n",
              "        vertical-align: top;\n",
              "    }\n",
              "\n",
              "    .dataframe thead th {\n",
              "        text-align: right;\n",
              "    }\n",
              "</style>\n",
              "<table border=\"1\" class=\"dataframe\">\n",
              "  <thead>\n",
              "    <tr style=\"text-align: right;\">\n",
              "      <th>priority</th>\n",
              "      <th>1</th>\n",
              "      <th>2</th>\n",
              "      <th>3</th>\n",
              "      <th>4</th>\n",
              "    </tr>\n",
              "    <tr>\n",
              "      <th>description</th>\n",
              "      <th></th>\n",
              "      <th></th>\n",
              "      <th></th>\n",
              "      <th></th>\n",
              "    </tr>\n",
              "  </thead>\n",
              "  <tbody>\n",
              "    <tr>\n",
              "      <th>911/NO  VOICE</th>\n",
              "      <td>0</td>\n",
              "      <td>2</td>\n",
              "      <td>457467</td>\n",
              "      <td>0</td>\n",
              "    </tr>\n",
              "    <tr>\n",
              "      <th>AUTO ACCIDENT</th>\n",
              "      <td>1</td>\n",
              "      <td>106896</td>\n",
              "      <td>2818</td>\n",
              "      <td>25</td>\n",
              "    </tr>\n",
              "    <tr>\n",
              "      <th>COMMON ASSAULT</th>\n",
              "      <td>0</td>\n",
              "      <td>8</td>\n",
              "      <td>117475</td>\n",
              "      <td>270</td>\n",
              "    </tr>\n",
              "    <tr>\n",
              "      <th>DISORDERLY</th>\n",
              "      <td>1</td>\n",
              "      <td>4</td>\n",
              "      <td>237979</td>\n",
              "      <td>220</td>\n",
              "    </tr>\n",
              "    <tr>\n",
              "      <th>FAMILY DISTURB</th>\n",
              "      <td>1</td>\n",
              "      <td>2</td>\n",
              "      <td>68107</td>\n",
              "      <td>41</td>\n",
              "    </tr>\n",
              "    <tr>\n",
              "      <th>NARCOTICSOutside</th>\n",
              "      <td>0</td>\n",
              "      <td>0</td>\n",
              "      <td>95841</td>\n",
              "      <td>3</td>\n",
              "    </tr>\n",
              "    <tr>\n",
              "      <th>OTHER</th>\n",
              "      <td>5</td>\n",
              "      <td>60646</td>\n",
              "      <td>1062</td>\n",
              "      <td>141</td>\n",
              "    </tr>\n",
              "    <tr>\n",
              "      <th>Repairs/Service</th>\n",
              "      <td>67050</td>\n",
              "      <td>0</td>\n",
              "      <td>0</td>\n",
              "      <td>0</td>\n",
              "    </tr>\n",
              "    <tr>\n",
              "      <th>SILENT ALARM</th>\n",
              "      <td>0</td>\n",
              "      <td>0</td>\n",
              "      <td>2</td>\n",
              "      <td>78618</td>\n",
              "    </tr>\n",
              "    <tr>\n",
              "      <th>Traffic Stop</th>\n",
              "      <td>0</td>\n",
              "      <td>20848</td>\n",
              "      <td>0</td>\n",
              "      <td>147063</td>\n",
              "    </tr>\n",
              "  </tbody>\n",
              "</table>\n",
              "</div>\n",
              "    <div class=\"colab-df-buttons\">\n",
              "\n",
              "  <div class=\"colab-df-container\">\n",
              "    <button class=\"colab-df-convert\" onclick=\"convertToInteractive('df-3e9c4e79-f50c-4c90-9cdf-a66c030bb0c1')\"\n",
              "            title=\"Convert this dataframe to an interactive table.\"\n",
              "            style=\"display:none;\">\n",
              "\n",
              "  <svg xmlns=\"http://www.w3.org/2000/svg\" height=\"24px\" viewBox=\"0 -960 960 960\">\n",
              "    <path d=\"M120-120v-720h720v720H120Zm60-500h600v-160H180v160Zm220 220h160v-160H400v160Zm0 220h160v-160H400v160ZM180-400h160v-160H180v160Zm440 0h160v-160H620v160ZM180-180h160v-160H180v160Zm440 0h160v-160H620v160Z\"/>\n",
              "  </svg>\n",
              "    </button>\n",
              "\n",
              "  <style>\n",
              "    .colab-df-container {\n",
              "      display:flex;\n",
              "      gap: 12px;\n",
              "    }\n",
              "\n",
              "    .colab-df-convert {\n",
              "      background-color: #E8F0FE;\n",
              "      border: none;\n",
              "      border-radius: 50%;\n",
              "      cursor: pointer;\n",
              "      display: none;\n",
              "      fill: #1967D2;\n",
              "      height: 32px;\n",
              "      padding: 0 0 0 0;\n",
              "      width: 32px;\n",
              "    }\n",
              "\n",
              "    .colab-df-convert:hover {\n",
              "      background-color: #E2EBFA;\n",
              "      box-shadow: 0px 1px 2px rgba(60, 64, 67, 0.3), 0px 1px 3px 1px rgba(60, 64, 67, 0.15);\n",
              "      fill: #174EA6;\n",
              "    }\n",
              "\n",
              "    .colab-df-buttons div {\n",
              "      margin-bottom: 4px;\n",
              "    }\n",
              "\n",
              "    [theme=dark] .colab-df-convert {\n",
              "      background-color: #3B4455;\n",
              "      fill: #D2E3FC;\n",
              "    }\n",
              "\n",
              "    [theme=dark] .colab-df-convert:hover {\n",
              "      background-color: #434B5C;\n",
              "      box-shadow: 0px 1px 3px 1px rgba(0, 0, 0, 0.15);\n",
              "      filter: drop-shadow(0px 1px 2px rgba(0, 0, 0, 0.3));\n",
              "      fill: #FFFFFF;\n",
              "    }\n",
              "  </style>\n",
              "\n",
              "    <script>\n",
              "      const buttonEl =\n",
              "        document.querySelector('#df-3e9c4e79-f50c-4c90-9cdf-a66c030bb0c1 button.colab-df-convert');\n",
              "      buttonEl.style.display =\n",
              "        google.colab.kernel.accessAllowed ? 'block' : 'none';\n",
              "\n",
              "      async function convertToInteractive(key) {\n",
              "        const element = document.querySelector('#df-3e9c4e79-f50c-4c90-9cdf-a66c030bb0c1');\n",
              "        const dataTable =\n",
              "          await google.colab.kernel.invokeFunction('convertToInteractive',\n",
              "                                                    [key], {});\n",
              "        if (!dataTable) return;\n",
              "\n",
              "        const docLinkHtml = 'Like what you see? Visit the ' +\n",
              "          '<a target=\"_blank\" href=https://colab.research.google.com/notebooks/data_table.ipynb>data table notebook</a>'\n",
              "          + ' to learn more about interactive tables.';\n",
              "        element.innerHTML = '';\n",
              "        dataTable['output_type'] = 'display_data';\n",
              "        await google.colab.output.renderOutput(dataTable, element);\n",
              "        const docLink = document.createElement('div');\n",
              "        docLink.innerHTML = docLinkHtml;\n",
              "        element.appendChild(docLink);\n",
              "      }\n",
              "    </script>\n",
              "  </div>\n",
              "\n",
              "\n",
              "<div id=\"df-85cf4088-2433-4975-9bbf-668aa8873ddf\">\n",
              "  <button class=\"colab-df-quickchart\" onclick=\"quickchart('df-85cf4088-2433-4975-9bbf-668aa8873ddf')\"\n",
              "            title=\"Suggest charts\"\n",
              "            style=\"display:none;\">\n",
              "\n",
              "<svg xmlns=\"http://www.w3.org/2000/svg\" height=\"24px\"viewBox=\"0 0 24 24\"\n",
              "     width=\"24px\">\n",
              "    <g>\n",
              "        <path d=\"M19 3H5c-1.1 0-2 .9-2 2v14c0 1.1.9 2 2 2h14c1.1 0 2-.9 2-2V5c0-1.1-.9-2-2-2zM9 17H7v-7h2v7zm4 0h-2V7h2v10zm4 0h-2v-4h2v4z\"/>\n",
              "    </g>\n",
              "</svg>\n",
              "  </button>\n",
              "\n",
              "<style>\n",
              "  .colab-df-quickchart {\n",
              "      --bg-color: #E8F0FE;\n",
              "      --fill-color: #1967D2;\n",
              "      --hover-bg-color: #E2EBFA;\n",
              "      --hover-fill-color: #174EA6;\n",
              "      --disabled-fill-color: #AAA;\n",
              "      --disabled-bg-color: #DDD;\n",
              "  }\n",
              "\n",
              "  [theme=dark] .colab-df-quickchart {\n",
              "      --bg-color: #3B4455;\n",
              "      --fill-color: #D2E3FC;\n",
              "      --hover-bg-color: #434B5C;\n",
              "      --hover-fill-color: #FFFFFF;\n",
              "      --disabled-bg-color: #3B4455;\n",
              "      --disabled-fill-color: #666;\n",
              "  }\n",
              "\n",
              "  .colab-df-quickchart {\n",
              "    background-color: var(--bg-color);\n",
              "    border: none;\n",
              "    border-radius: 50%;\n",
              "    cursor: pointer;\n",
              "    display: none;\n",
              "    fill: var(--fill-color);\n",
              "    height: 32px;\n",
              "    padding: 0;\n",
              "    width: 32px;\n",
              "  }\n",
              "\n",
              "  .colab-df-quickchart:hover {\n",
              "    background-color: var(--hover-bg-color);\n",
              "    box-shadow: 0 1px 2px rgba(60, 64, 67, 0.3), 0 1px 3px 1px rgba(60, 64, 67, 0.15);\n",
              "    fill: var(--button-hover-fill-color);\n",
              "  }\n",
              "\n",
              "  .colab-df-quickchart-complete:disabled,\n",
              "  .colab-df-quickchart-complete:disabled:hover {\n",
              "    background-color: var(--disabled-bg-color);\n",
              "    fill: var(--disabled-fill-color);\n",
              "    box-shadow: none;\n",
              "  }\n",
              "\n",
              "  .colab-df-spinner {\n",
              "    border: 2px solid var(--fill-color);\n",
              "    border-color: transparent;\n",
              "    border-bottom-color: var(--fill-color);\n",
              "    animation:\n",
              "      spin 1s steps(1) infinite;\n",
              "  }\n",
              "\n",
              "  @keyframes spin {\n",
              "    0% {\n",
              "      border-color: transparent;\n",
              "      border-bottom-color: var(--fill-color);\n",
              "      border-left-color: var(--fill-color);\n",
              "    }\n",
              "    20% {\n",
              "      border-color: transparent;\n",
              "      border-left-color: var(--fill-color);\n",
              "      border-top-color: var(--fill-color);\n",
              "    }\n",
              "    30% {\n",
              "      border-color: transparent;\n",
              "      border-left-color: var(--fill-color);\n",
              "      border-top-color: var(--fill-color);\n",
              "      border-right-color: var(--fill-color);\n",
              "    }\n",
              "    40% {\n",
              "      border-color: transparent;\n",
              "      border-right-color: var(--fill-color);\n",
              "      border-top-color: var(--fill-color);\n",
              "    }\n",
              "    60% {\n",
              "      border-color: transparent;\n",
              "      border-right-color: var(--fill-color);\n",
              "    }\n",
              "    80% {\n",
              "      border-color: transparent;\n",
              "      border-right-color: var(--fill-color);\n",
              "      border-bottom-color: var(--fill-color);\n",
              "    }\n",
              "    90% {\n",
              "      border-color: transparent;\n",
              "      border-bottom-color: var(--fill-color);\n",
              "    }\n",
              "  }\n",
              "</style>\n",
              "\n",
              "  <script>\n",
              "    async function quickchart(key) {\n",
              "      const quickchartButtonEl =\n",
              "        document.querySelector('#' + key + ' button');\n",
              "      quickchartButtonEl.disabled = true;  // To prevent multiple clicks.\n",
              "      quickchartButtonEl.classList.add('colab-df-spinner');\n",
              "      try {\n",
              "        const charts = await google.colab.kernel.invokeFunction(\n",
              "            'suggestCharts', [key], {});\n",
              "      } catch (error) {\n",
              "        console.error('Error during call to suggestCharts:', error);\n",
              "      }\n",
              "      quickchartButtonEl.classList.remove('colab-df-spinner');\n",
              "      quickchartButtonEl.classList.add('colab-df-quickchart-complete');\n",
              "    }\n",
              "    (() => {\n",
              "      let quickchartButtonEl =\n",
              "        document.querySelector('#df-85cf4088-2433-4975-9bbf-668aa8873ddf button');\n",
              "      quickchartButtonEl.style.display =\n",
              "        google.colab.kernel.accessAllowed ? 'block' : 'none';\n",
              "    })();\n",
              "  </script>\n",
              "</div>\n",
              "\n",
              "  <div id=\"id_bb56dd48-2701-4f05-a9f6-ce1d2f8fd17c\">\n",
              "    <style>\n",
              "      .colab-df-generate {\n",
              "        background-color: #E8F0FE;\n",
              "        border: none;\n",
              "        border-radius: 50%;\n",
              "        cursor: pointer;\n",
              "        display: none;\n",
              "        fill: #1967D2;\n",
              "        height: 32px;\n",
              "        padding: 0 0 0 0;\n",
              "        width: 32px;\n",
              "      }\n",
              "\n",
              "      .colab-df-generate:hover {\n",
              "        background-color: #E2EBFA;\n",
              "        box-shadow: 0px 1px 2px rgba(60, 64, 67, 0.3), 0px 1px 3px 1px rgba(60, 64, 67, 0.15);\n",
              "        fill: #174EA6;\n",
              "      }\n",
              "\n",
              "      [theme=dark] .colab-df-generate {\n",
              "        background-color: #3B4455;\n",
              "        fill: #D2E3FC;\n",
              "      }\n",
              "\n",
              "      [theme=dark] .colab-df-generate:hover {\n",
              "        background-color: #434B5C;\n",
              "        box-shadow: 0px 1px 3px 1px rgba(0, 0, 0, 0.15);\n",
              "        filter: drop-shadow(0px 1px 2px rgba(0, 0, 0, 0.3));\n",
              "        fill: #FFFFFF;\n",
              "      }\n",
              "    </style>\n",
              "    <button class=\"colab-df-generate\" onclick=\"generateWithVariable('crosstab')\"\n",
              "            title=\"Generate code using this dataframe.\"\n",
              "            style=\"display:none;\">\n",
              "\n",
              "  <svg xmlns=\"http://www.w3.org/2000/svg\" height=\"24px\"viewBox=\"0 0 24 24\"\n",
              "       width=\"24px\">\n",
              "    <path d=\"M7,19H8.4L18.45,9,17,7.55,7,17.6ZM5,21V16.75L18.45,3.32a2,2,0,0,1,2.83,0l1.4,1.43a1.91,1.91,0,0,1,.58,1.4,1.91,1.91,0,0,1-.58,1.4L9.25,21ZM18.45,9,17,7.55Zm-12,3A5.31,5.31,0,0,0,4.9,8.1,5.31,5.31,0,0,0,1,6.5,5.31,5.31,0,0,0,4.9,4.9,5.31,5.31,0,0,0,6.5,1,5.31,5.31,0,0,0,8.1,4.9,5.31,5.31,0,0,0,12,6.5,5.46,5.46,0,0,0,6.5,12Z\"/>\n",
              "  </svg>\n",
              "    </button>\n",
              "    <script>\n",
              "      (() => {\n",
              "      const buttonEl =\n",
              "        document.querySelector('#id_bb56dd48-2701-4f05-a9f6-ce1d2f8fd17c button.colab-df-generate');\n",
              "      buttonEl.style.display =\n",
              "        google.colab.kernel.accessAllowed ? 'block' : 'none';\n",
              "\n",
              "      buttonEl.onclick = () => {\n",
              "        google.colab.notebook.generateWithVariable('crosstab');\n",
              "      }\n",
              "      })();\n",
              "    </script>\n",
              "  </div>\n",
              "\n",
              "    </div>\n",
              "  </div>\n"
            ],
            "application/vnd.google.colaboratory.intrinsic+json": {
              "type": "dataframe",
              "variable_name": "crosstab",
              "summary": "{\n  \"name\": \"crosstab\",\n  \"rows\": 10,\n  \"fields\": [\n    {\n      \"column\": \"description\",\n      \"properties\": {\n        \"dtype\": \"string\",\n        \"num_unique_values\": 10,\n        \"samples\": [\n          \"SILENT ALARM\",\n          \"AUTO ACCIDENT\",\n          \"NARCOTICSOutside\"\n        ],\n        \"semantic_type\": \"\",\n        \"description\": \"\"\n      }\n    },\n    {\n      \"column\": 1,\n      \"properties\": {\n        \"dtype\": \"number\",\n        \"std\": 21202,\n        \"min\": 0,\n        \"max\": 67050,\n        \"num_unique_values\": 4,\n        \"samples\": [\n          1,\n          67050,\n          0\n        ],\n        \"semantic_type\": \"\",\n        \"description\": \"\"\n      }\n    },\n    {\n      \"column\": 2,\n      \"properties\": {\n        \"dtype\": \"number\",\n        \"std\": 36499,\n        \"min\": 0,\n        \"max\": 106896,\n        \"num_unique_values\": 7,\n        \"samples\": [\n          2,\n          106896,\n          60646\n        ],\n        \"semantic_type\": \"\",\n        \"description\": \"\"\n      }\n    },\n    {\n      \"column\": 3,\n      \"properties\": {\n        \"dtype\": \"number\",\n        \"std\": 148082,\n        \"min\": 0,\n        \"max\": 457467,\n        \"num_unique_values\": 9,\n        \"samples\": [\n          0,\n          2818,\n          95841\n        ],\n        \"semantic_type\": \"\",\n        \"description\": \"\"\n      }\n    },\n    {\n      \"column\": 4,\n      \"properties\": {\n        \"dtype\": \"number\",\n        \"std\": 50203,\n        \"min\": 0,\n        \"max\": 147063,\n        \"num_unique_values\": 9,\n        \"samples\": [\n          78618,\n          25,\n          3\n        ],\n        \"semantic_type\": \"\",\n        \"description\": \"\"\n      }\n    }\n  ]\n}"
            }
          },
          "metadata": {},
          "execution_count": 89
        }
      ],
      "source": [
        "crosstab = pd.crosstab(top_10_df['description'], top_10_df['priority'])\n",
        "crosstab"
      ]
    },
    {
      "cell_type": "markdown",
      "metadata": {
        "id": "jrPEFTnp5H0d"
      },
      "source": [
        "Because some of the priorities have extremely high frequencies, a logarithmic scale for the y-axis is used to better display some of the more non-frequent priorities."
      ]
    },
    {
      "cell_type": "code",
      "execution_count": null,
      "metadata": {
        "id": "E7sPurNQTdDX",
        "colab": {
          "base_uri": "https://localhost:8080/",
          "height": 569
        },
        "outputId": "c8e6f084-36a0-40a0-a81b-5e99160fba83"
      },
      "outputs": [
        {
          "output_type": "display_data",
          "data": {
            "text/plain": [
              "<Figure size 640x480 with 1 Axes>"
            ],
            "image/png": "[encoded data removed]"
          },
          "metadata": {}
        }
      ],
      "source": [
        "crosstab.plot(kind=\"bar\")\n",
        "plt.yscale(\"log\")\n",
        "plt.show()"
      ]
    },
    {
      "cell_type": "code",
      "execution_count": null,
      "metadata": {
        "id": "7XfFccyrUWMx",
        "colab": {
          "base_uri": "https://localhost:8080/"
        },
        "outputId": "2520da40-ccb4-4d22-aa9c-eebe6a242cf4"
      },
      "outputs": [
        {
          "output_type": "stream",
          "name": "stdout",
          "text": [
            "The p-value is 0.0\n"
          ]
        }
      ],
      "source": [
        "chi2, p_value, _, _ = stats.chi2_contingency(crosstab)\n",
        "print(\"The p-value is \" + p_value.__str__())"
      ]
    },
    {
      "cell_type": "markdown",
      "metadata": {
        "id": "4sTCUB5X3MPX"
      },
      "source": [
        "## **Conclusion: Description vs. Priority:**\n",
        "\n",
        "\n",
        "Since out significance levels is 0.0, we must reject the null hypothesis since it is less than our alpha value of 0.05. **This means that the description of a crime does have an effect on the priority of the 911 call.** Our data also shows that 6 of the 10  most popular crimes have a priority of 3. Traffic stops and silent alarms have a high proportion of incidences with a priority of 4. And repairs/service are entirely categorized with a priority of 1."
      ]
    },
    {
      "cell_type": "markdown",
      "metadata": {
        "id": "SdMMEMIqcoLO"
      },
      "source": [
        "## **Analysis: Call Times (AM vs. PM) and Priority**\n",
        "\n",
        "In Baltimore, the priority of a call may vary depending on if the call is made in the AM vs. PM. With a Two-Sample T test, we can assess if the timing of a 911 call made in Baltimore has an impact on the priority of the call.\n",
        "\n",
        "HO: The timing of the call does not have an impact on its priority.\n",
        "\n",
        "HA: The timing of the call has an impact on its priority.\n",
        "\n"
      ]
    },
    {
      "cell_type": "markdown",
      "metadata": {
        "id": "eyho78bxkIw_"
      },
      "source": [
        "Let's first display all of the unique priorities, the unique call times, and the number of unique call times. The \"Out of Service\" priority rows can be dropped as it is an invalid call"
      ]
    },
    {
      "cell_type": "code",
      "execution_count": null,
      "metadata": {
        "id": "Gkk-2b5Wfsfw",
        "colab": {
          "base_uri": "https://localhost:8080/"
        },
        "outputId": "5f3e82a3-ad0f-4290-aadd-0e514b6c600d"
      },
      "outputs": [
        {
          "output_type": "stream",
          "name": "stdout",
          "text": [
            "['Medium' 'Low' 'High' 'Non-Emergency' 'Emergency']\n",
            "['10:41:00' '10:47:00' '10:42:00' ... '04:36:00' '06:41:00' '07:16:00']\n",
            "1440\n"
          ]
        }
      ],
      "source": [
        "new_df = new_df.drop(new_df[new_df['priority'] == 'Out of Service'].index)\n",
        "print(new_df['priority'].unique())\n",
        "print(new_df['time'].unique())\n",
        "print(len(new_df['time'].unique()))"
      ]
    },
    {
      "cell_type": "markdown",
      "metadata": {
        "id": "SfWIFz3bkMMw"
      },
      "source": [
        "Split the DataFrame into 2 separate DataFrames such that one contains all AM call times (from 00:00:00 to 11:59:59) and the other contains all PM call times (from 12:00:00 to 23:59:59)."
      ]
    },
    {
      "cell_type": "code",
      "execution_count": null,
      "metadata": {
        "id": "DBrYCtG4kfus"
      },
      "outputs": [],
      "source": [
        "new_df = new_df.dropna(subset = ['date', 'time', 'priority', 'district', 'description', 'callNumber', 'location'])\n",
        "new_df[\"time\"] = pd.to_datetime(new_df['time'], format='%H:%M:%S').dt.time\n",
        "am_calls_df = pd.DataFrame()\n",
        "am_calls_df = new_df[(new_df[\"time\"] > pd.to_datetime('00:00:00').time()) & (new_df[\"time\"] <= pd.to_datetime('11:59:59').time())]\n",
        "pm_calls_df = pd.DataFrame()\n",
        "pm_calls_df = new_df[(new_df[\"time\"] > pd.to_datetime('11:59:59').time()) & (new_df[\"time\"] <= pd.to_datetime('23:59:59').time())]"
      ]
    },
    {
      "cell_type": "markdown",
      "metadata": {
        "id": "GWNGb490vyt5"
      },
      "source": [
        "Quantify the priorities in the AM and PM DataFrames such that corresponding priorities are assigned a value 1 - 5.\n",
        "\n",
        "1: Non-Emergency\n",
        "\n",
        "2: Low\n",
        "\n",
        "3: Medium\n",
        "\n",
        "4: High\n",
        "\n",
        "5: Emergency\n",
        "\n",
        "This will allow for a way to calculate the mean priority of calls made in the AM vs. PM."
      ]
    },
    {
      "cell_type": "code",
      "execution_count": null,
      "metadata": {
        "id": "Wp3AKDpIwFBA",
        "colab": {
          "base_uri": "https://localhost:8080/"
        },
        "outputId": "88d10581-cf60-43a6-b5a4-f34cbbb61c47"
      },
      "outputs": [
        {
          "output_type": "stream",
          "name": "stderr",
          "text": [
            "<ipython-input-94-dc8705166ba5>:6: SettingWithCopyWarning: \n",
            "A value is trying to be set on a copy of a slice from a DataFrame.\n",
            "Try using .loc[row_indexer,col_indexer] = value instead\n",
            "\n",
            "See the caveats in the documentation: https://pandas.pydata.org/pandas-docs/stable/user_guide/indexing.html#returning-a-view-versus-a-copy\n",
            "  am_calls_df['priority'] = am_calls_df['priority'].apply(int)\n",
            "<ipython-input-94-dc8705166ba5>:13: SettingWithCopyWarning: \n",
            "A value is trying to be set on a copy of a slice from a DataFrame.\n",
            "Try using .loc[row_indexer,col_indexer] = value instead\n",
            "\n",
            "See the caveats in the documentation: https://pandas.pydata.org/pandas-docs/stable/user_guide/indexing.html#returning-a-view-versus-a-copy\n",
            "  pm_calls_df['priority'] = pm_calls_df['priority'].apply(int)\n"
          ]
        }
      ],
      "source": [
        "am_calls_df.loc[am_calls_df['priority'] == 'Non-Emergency', 'priority'] = '1'\n",
        "am_calls_df.loc[am_calls_df['priority'] == 'Low', 'priority'] = '2'\n",
        "am_calls_df.loc[am_calls_df['priority'] == 'Medium', 'priority'] = '3'\n",
        "am_calls_df.loc[am_calls_df['priority'] == 'High', 'priority'] = '4'\n",
        "am_calls_df.loc[am_calls_df['priority'] == 'Emergency', 'priority'] = '5'\n",
        "am_calls_df['priority'] = am_calls_df['priority'].apply(int)\n",
        "\n",
        "pm_calls_df.loc[pm_calls_df['priority'] == 'Non-Emergency', 'priority'] = '1'\n",
        "pm_calls_df.loc[pm_calls_df['priority'] == 'Low', 'priority'] = '2'\n",
        "pm_calls_df.loc[pm_calls_df['priority'] == 'Medium', 'priority'] = '3'\n",
        "pm_calls_df.loc[pm_calls_df['priority'] == 'High', 'priority'] = '4'\n",
        "pm_calls_df.loc[pm_calls_df['priority'] == 'Emergency', 'priority'] = '5'\n",
        "pm_calls_df['priority'] = pm_calls_df['priority'].apply(int)"
      ]
    },
    {
      "cell_type": "markdown",
      "metadata": {
        "id": "Ao7EtFeIzVc7"
      },
      "source": [
        "Calculate the mean priority value for both the AM and PM calls."
      ]
    },
    {
      "cell_type": "code",
      "execution_count": null,
      "metadata": {
        "id": "6UEYq25Oz10c",
        "colab": {
          "base_uri": "https://localhost:8080/"
        },
        "outputId": "4cbf3c9d-0c68-459c-b4eb-a584461f07cc"
      },
      "outputs": [
        {
          "output_type": "stream",
          "name": "stdout",
          "text": [
            "AM Call Avg. Priority: 2.6730598227382085\n",
            "PM Call Avg. Priority: 2.710892729263101\n"
          ]
        }
      ],
      "source": [
        "am_average_priority = am_calls_df[\"priority\"].mean()\n",
        "pm_average_priority = pm_calls_df[\"priority\"].mean()\n",
        "print(\"AM Call Avg. Priority:\", am_average_priority)\n",
        "print(\"PM Call Avg. Priority:\", pm_average_priority)"
      ]
    },
    {
      "cell_type": "markdown",
      "metadata": {
        "id": "xksEp45F0U0f"
      },
      "source": [
        "Conduct Two-Sample T-Test because we want to see if two independent samples (AM vs. PM calls) are similar in terms of their mean call priority."
      ]
    },
    {
      "cell_type": "code",
      "execution_count": null,
      "metadata": {
        "id": "6ZiynFfH0SfF",
        "colab": {
          "base_uri": "https://localhost:8080/"
        },
        "outputId": "511101b1-a21c-4f77-c36b-82e20386acdc"
      },
      "outputs": [
        {
          "output_type": "stream",
          "name": "stdout",
          "text": [
            "T-Statistic: -34.60294924530181\n",
            "p-value: 2.594260948597462e-262\n"
          ]
        }
      ],
      "source": [
        "t_stat, p_value = stats.ttest_ind(am_calls_df[\"priority\"], pm_calls_df[\"priority\"])\n",
        "print(\"T-Statistic:\", t_stat)\n",
        "print(\"p-value:\", p_value)"
      ]
    },
    {
      "cell_type": "markdown",
      "metadata": {
        "id": "Qjms5o1Y2x8K"
      },
      "source": [
        "Plot the Two-Sample T-Test results for visualization purposes."
      ]
    },
    {
      "cell_type": "code",
      "execution_count": null,
      "metadata": {
        "id": "uesfLHpT2w5c",
        "colab": {
          "base_uri": "https://localhost:8080/",
          "height": 927
        },
        "outputId": "1584c86d-a135-4608-e9f1-d43bed638b53"
      },
      "outputs": [
        {
          "output_type": "display_data",
          "data": {
            "text/plain": [
              "<Figure size 640x480 with 1 Axes>"
            ],
            "image/png": "[encoded data removed]"
          },
          "metadata": {}
        },
        {
          "output_type": "display_data",
          "data": {
            "text/plain": [
              "<Figure size 640x480 with 1 Axes>"
            ],
            "image/png": "[encoded data removed]"
          },
          "metadata": {}
        }
      ],
      "source": [
        "fig, ax1 = plt.subplots()\n",
        "boxplot_stats1 = plt.boxplot(am_calls_df[\"priority\"])\n",
        "plt.xlabel(\"AM Call\")\n",
        "plt.ylabel(\"Priority\")\n",
        "plt.title(\"AM Calls and Priority\")\n",
        "min_value = boxplot_stats1['whiskers'][0].get_ydata()[1]\n",
        "max_value = boxplot_stats1['whiskers'][1].get_ydata()[1]\n",
        "median_value = boxplot_stats1['medians'][0].get_ydata()[0]\n",
        "q1 = boxplot_stats1['boxes'][0].get_ydata()[1]\n",
        "q3 = boxplot_stats1['boxes'][0].get_ydata()[2]\n",
        "ax1.text(1.1, median_value, f'Median: {median_value}', verticalalignment='top')\n",
        "ax1.text(1.1, q1, f'Q1: {q1}', verticalalignment='center')\n",
        "ax1.text(1.1, q3, f'Q3: {q3}', verticalalignment='bottom')\n",
        "ax1.text(1.1, min_value, f'Min: {min_value}', verticalalignment='center')\n",
        "ax1.text(1.1, max_value, f'Max: {max_value}', verticalalignment='center')\n",
        "plt.show()\n",
        "\n",
        "fig, ax2 = plt.subplots()\n",
        "boxplot_stats2 = plt.boxplot(pm_calls_df[\"priority\"])\n",
        "plt.xlabel(\"PM Call\")\n",
        "plt.ylabel(\"Priority\")\n",
        "plt.title(\"PM Calls and Priority\")\n",
        "min_value = boxplot_stats2['whiskers'][0].get_ydata()[1]\n",
        "max_value = boxplot_stats2['whiskers'][1].get_ydata()[1]\n",
        "median_value = boxplot_stats2['medians'][0].get_ydata()[0]\n",
        "q1 = boxplot_stats2['boxes'][0].get_ydata()[1]\n",
        "q3 = boxplot_stats2['boxes'][0].get_ydata()[2]\n",
        "ax2.text(1.1, median_value, f'Median: {median_value}', verticalalignment='top')\n",
        "ax2.text(1.1, q1, f'Q1: {q1}', verticalalignment='center')\n",
        "ax2.text(1.1, q3, f'Q3: {q3}', verticalalignment='bottom')\n",
        "ax2.text(1.1, min_value, f'Min: {min_value}', verticalalignment='center')\n",
        "ax2.text(1.1, max_value, f'Max: {max_value}', verticalalignment='center')\n",
        "plt.show()"
      ]
    },
    {
      "cell_type": "markdown",
      "metadata": {
        "id": "xP_CvPaY_tUw"
      },
      "source": [
        "## **Conclusion: Call Times (AM vs. PM) and Priority**\n",
        "\n"
      ]
    },
    {
      "cell_type": "markdown",
      "metadata": {
        "id": "HJeE_QxuA4Fy"
      },
      "source": [
        "A p-value less than or equal to α = 0.05 will lead us to reject the null hypothesis. Since the p-value is ~0.0, we can reject the null hypothesis as 0.0 ≤ 0.05. This supports the alternative hypothesis: **The timing of the call has an impact on its priority.** This suggests that the timing of the call might cause it to be characterized differently, and therefore, handled differntly by the 911 operator. Reasons for this could be that there are more 911 operators at a certain time of the day, they are perhaps receving less calls during a certain time of the day thus they can focus more on the calls they do receive within that timeframe, etc."
      ]
    },
    {
      "cell_type": "markdown",
      "metadata": {
        "id": "239OXHXP-CgU"
      },
      "source": [
        "# **Primary Analysis**\n"
      ]
    },
    {
      "cell_type": "markdown",
      "metadata": {
        "id": "8tQdg8cN-G_f"
      },
      "source": [
        "To reiterate, the question we are trying to explore further is \"**What factors contribute to the variations in priority levels amongst Baltimore 911 calls?**\" Seeing the results of the **Exploratory Data Analysis** section, we can see the main takeaways that the various statistical test results indicate are as follow:\n",
        "\n",
        "1. The district where the crime occurred does influence the priority of the 911 call.\n",
        "\n",
        "2. The description of a crime does have an effect on the priority of the 911 call.\n",
        "\n",
        "3. The timing of the call has an impact on its priority.\n",
        "\n",
        "So, let's train ML models that treat a combination of these 3 main factors (district, description, and time) as inputs, and analyze which factor is the main contributor to priority of a 911 call."
      ]
    },
    {
      "cell_type": "markdown",
      "metadata": {
        "id": "9tTOxW1c-LEW"
      },
      "source": [
        "### **Machine Learning Analysis: Using Call Times, District, and Description to Predict Priority**"
      ]
    },
    {
      "cell_type": "markdown",
      "metadata": {
        "id": "PwGyIUV1-Onv"
      },
      "source": [
        "To see how the factors we have observed thus far (time, district, description) affect the priority of a 911 call in Baltimore, we can see if a Decision Tree can accurately model and classify datapoints into their respective priorities by solely relying on these 3 features. The DataFrame call_time_df is only the columns pertaining to time, description, district, and priority. The time, descprition, and district columns are part of the inputs, and priority column is the output."
      ]
    },
    {
      "cell_type": "code",
      "execution_count": null,
      "metadata": {
        "id": "obJiKYSM-RBj",
        "colab": {
          "base_uri": "https://localhost:8080/"
        },
        "outputId": "3195e461-06eb-4058-976b-05c1136847e3"
      },
      "outputs": [
        {
          "output_type": "stream",
          "name": "stderr",
          "text": [
            "<ipython-input-98-bd20fb4e3202>:8: SettingWithCopyWarning: \n",
            "A value is trying to be set on a copy of a slice from a DataFrame.\n",
            "Try using .loc[row_indexer,col_indexer] = value instead\n",
            "\n",
            "See the caveats in the documentation: https://pandas.pydata.org/pandas-docs/stable/user_guide/indexing.html#returning-a-view-versus-a-copy\n",
            "  call_time_df['time'] = call_time_df['time'].apply(lambda time: time.hour * 3600 + time.minute * 60 + time.second)\n",
            "<ipython-input-98-bd20fb4e3202>:15: SettingWithCopyWarning: \n",
            "A value is trying to be set on a copy of a slice from a DataFrame.\n",
            "Try using .loc[row_indexer,col_indexer] = value instead\n",
            "\n",
            "See the caveats in the documentation: https://pandas.pydata.org/pandas-docs/stable/user_guide/indexing.html#returning-a-view-versus-a-copy\n",
            "  call_time_df['priority'] = call_time_df['priority'].apply(int)\n",
            "<ipython-input-98-bd20fb4e3202>:19: SettingWithCopyWarning: \n",
            "A value is trying to be set on a copy of a slice from a DataFrame.\n",
            "Try using .loc[row_indexer,col_indexer] = value instead\n",
            "\n",
            "See the caveats in the documentation: https://pandas.pydata.org/pandas-docs/stable/user_guide/indexing.html#returning-a-view-versus-a-copy\n",
            "  call_time_df['district'] = encoder.fit_transform(call_time_df['district'])\n",
            "<ipython-input-98-bd20fb4e3202>:20: SettingWithCopyWarning: \n",
            "A value is trying to be set on a copy of a slice from a DataFrame.\n",
            "Try using .loc[row_indexer,col_indexer] = value instead\n",
            "\n",
            "See the caveats in the documentation: https://pandas.pydata.org/pandas-docs/stable/user_guide/indexing.html#returning-a-view-versus-a-copy\n",
            "  call_time_df['description'] = encoder.fit_transform(call_time_df['description'])\n"
          ]
        }
      ],
      "source": [
        "new_df = new_df.drop(new_df[new_df['priority'] == 'Out of Service'].index)\n",
        "new_df = new_df.dropna(subset = ['date', 'time', 'priority', 'district', 'description', 'callNumber', 'location'])\n",
        "new_df[\"time\"] = pd.to_datetime(new_df['time'], format='%H:%M:%S').dt.time\n",
        "\n",
        "call_time_df = new_df[['time', 'district', 'description', 'priority']]\n",
        "\n",
        "top_10_common_desc = call_time_df['description'].value_counts().head(10).index.tolist()\n",
        "call_time_df['time'] = call_time_df['time'].apply(lambda time: time.hour * 3600 + time.minute * 60 + time.second)\n",
        "\n",
        "call_time_df.loc[call_time_df['priority'] == 'Non-Emergency', 'priority'] = '1'\n",
        "call_time_df.loc[call_time_df['priority'] == 'Low', 'priority'] = '2'\n",
        "call_time_df.loc[call_time_df['priority'] == 'Medium', 'priority'] = '3'\n",
        "call_time_df.loc[call_time_df['priority'] == 'High', 'priority'] = '4'\n",
        "call_time_df.loc[call_time_df['priority'] == 'Emergency', 'priority'] = '5'\n",
        "call_time_df['priority'] = call_time_df['priority'].apply(int)\n",
        "\n",
        "# Use label encoding to transform non-numerical data to numerical values\n",
        "encoder = LabelEncoder()\n",
        "call_time_df['district'] = encoder.fit_transform(call_time_df['district'])\n",
        "call_time_df['description'] = encoder.fit_transform(call_time_df['description'])\n",
        "\n",
        "X_call = call_time_df.drop(columns = 'priority')\n",
        "y_call = call_time_df['priority']\n",
        "\n",
        "X_train_call, X_test_call, y_train_call, y_test_call = train_test_split(X_call, y_call, test_size = 0.2, random_state = 42)"
      ]
    },
    {
      "cell_type": "markdown",
      "metadata": {
        "id": "d4PQu2fl-Tkn"
      },
      "source": [
        "We will standardize the input columns so they all have equal contribution in influencing the Decision Tree Model. From there, we will do a K-fold Cross Validation to see how accurate the Decision Tree Model could actually be in predicting the priority of a call based only on time, description, and district."
      ]
    },
    {
      "cell_type": "code",
      "execution_count": null,
      "metadata": {
        "id": "969CZJvz-WkX",
        "colab": {
          "base_uri": "https://localhost:8080/"
        },
        "outputId": "69f7c283-b914-4a95-8c15-f691410b4156"
      },
      "outputs": [
        {
          "output_type": "stream",
          "name": "stdout",
          "text": [
            "Model Name: Decision Tree\n",
            "Cross Validation Mean: 0.960451018805281\n",
            "Cross Validation Standard Deviation: 0.00013786425786886054\n"
          ]
        }
      ],
      "source": [
        "# Scaler training and test sets\n",
        "scaler = StandardScaler()\n",
        "X_train_call_scaled = scaler.fit_transform(X_train_call)\n",
        "X_test_call_scaled = scaler.transform(X_test_call)\n",
        "\n",
        "# K-fold Cross Validation for Decision Tree Model\n",
        "k_folds = 5\n",
        "seed = 42\n",
        "skf = StratifiedKFold(n_splits = k_folds, shuffle = True, random_state = seed)\n",
        "dec_tree_model = DecisionTreeClassifier()\n",
        "np.random.seed(seed)\n",
        "res = cross_val_score(dec_tree_model, X_train_call_scaled, y_train_call, cv = skf, error_score = 'raise')\n",
        "print(\"Model Name:\", 'Decision Tree')\n",
        "print(\"Cross Validation Mean:\", res.mean())\n",
        "print(\"Cross Validation Standard Deviation:\", res.std())"
      ]
    },
    {
      "cell_type": "markdown",
      "metadata": {
        "id": "VMz3Q7VG-ZAm"
      },
      "source": [
        "The Decision Tree Model had a ~96% accuracy in the K-fold Cross Validation test, which is great. So, we can move further and formally fit, traing, and predict our data using the Decision Tree Classifier. Below, the classification report is shown in a printed and visual capacity. The corresponding scores show how accurate the model was in predicting the priorities of 1, 2, 3, 4, and 5 based on the input features of time, description, and district."
      ]
    },
    {
      "cell_type": "code",
      "execution_count": null,
      "metadata": {
        "id": "Zi55pScs-a75",
        "colab": {
          "base_uri": "https://localhost:8080/"
        },
        "outputId": "46008f02-cbb6-4b50-e666-f9f01788ab7f"
      },
      "outputs": [
        {
          "output_type": "stream",
          "name": "stdout",
          "text": [
            "Accuracy of 'Decision Tree: 0.96\n",
            "              precision    recall  f1-score   support\n",
            "\n",
            "           1       0.95      0.97      0.96     64031\n",
            "           2       0.93      0.92      0.93    127878\n",
            "           3       0.98      0.97      0.98    279877\n",
            "           4       0.95      0.99      0.97     86477\n",
            "           5       0.95      0.97      0.96       229\n",
            "\n",
            "    accuracy                           0.96    558492\n",
            "   macro avg       0.95      0.96      0.96    558492\n",
            "weighted avg       0.96      0.96      0.96    558492\n",
            "\n"
          ]
        }
      ],
      "source": [
        "dec_tree_model.fit(X_train_call_scaled, y_train_call)\n",
        "y_pred = dec_tree_model.predict(X_test_call_scaled)\n",
        "accuracy = accuracy_score(y_test_call, y_pred)\n",
        "class_report = classification_report(y_test_call, y_pred)\n",
        "\n",
        "print(f\"Accuracy of 'Decision Tree: {accuracy:.2f}\")\n",
        "print(class_report)"
      ]
    },
    {
      "cell_type": "code",
      "execution_count": null,
      "metadata": {
        "id": "tWJG-IT--cbP",
        "colab": {
          "base_uri": "https://localhost:8080/",
          "height": 625
        },
        "outputId": "784d79c7-e8e3-4338-c1df-a0c38b384b47"
      },
      "outputs": [
        {
          "output_type": "display_data",
          "data": {
            "text/plain": [
              "<Figure size 800x600 with 2 Axes>"
            ],
            "image/png": "[encoded data removed]"
          },
          "metadata": {}
        }
      ],
      "source": [
        "visual_class_report = classification_report(y_test_call, y_pred, output_dict = True)\n",
        "\n",
        "df_class_report = pd.DataFrame(visual_class_report).transpose()\n",
        "\n",
        "plt.figure(figsize = (8, 6))\n",
        "sns.heatmap(df_class_report.T, annot = True, cmap = 'Blues')\n",
        "plt.title('Decision Tree Classification Report')\n",
        "plt.show()"
      ]
    },
    {
      "cell_type": "markdown",
      "metadata": {
        "id": "hq5IOrYH-k8c"
      },
      "source": [
        "### **Machine Learning Analysis: Using Description to Predict Priority**"
      ]
    },
    {
      "cell_type": "markdown",
      "metadata": {
        "id": "AOA5vi0P-m9h"
      },
      "source": [
        "The goal for this section is to see how accurately a machine learning model can predict the priority of a report based on words in the description. Since we are dealing with text data, we will use TF-IDF to transform text into numerical features and only highlight key terms. Afterwards, we will train a logistic regression model to predict priority based on description."
      ]
    },
    {
      "cell_type": "markdown",
      "metadata": {
        "id": "oe6NWAc_-pCq"
      },
      "source": [
        "Utilize the top_10_df from earlier to extract the descriptions\n"
      ]
    },
    {
      "cell_type": "code",
      "execution_count": null,
      "metadata": {
        "id": "CebRwgMq-tkY"
      },
      "outputs": [],
      "source": [
        "descriptions = top_10_df['description'].tolist()"
      ]
    },
    {
      "cell_type": "markdown",
      "metadata": {
        "id": "NDFADf8j-yYL"
      },
      "source": [
        "Utilize the vectorizer to generate a numerical feature matrix that can be used with logistic regression using one word sequences. Common words like \"the\" and \"of\" are removed with stop_words='english'"
      ]
    },
    {
      "cell_type": "code",
      "execution_count": null,
      "metadata": {
        "id": "TNbp7PI5-2fU"
      },
      "outputs": [],
      "source": [
        "vectorizer = TfidfVectorizer(ngram_range = (1,1), stop_words='english')\n",
        "tfidf_matrix = vectorizer.fit_transform(descriptions)"
      ]
    },
    {
      "cell_type": "code",
      "execution_count": null,
      "metadata": {
        "id": "5uExG6gl-3-Q",
        "colab": {
          "base_uri": "https://localhost:8080/"
        },
        "outputId": "0b33ca19-a36e-41ef-d44e-7d7e803fb796"
      },
      "outputs": [
        {
          "output_type": "execute_result",
          "data": {
            "text/plain": [
              "array(['911', 'accident', 'alarm', 'assault', 'auto', 'common',\n",
              "       'disorderly', 'disturb', 'family', 'narcoticsoutside', 'repairs',\n",
              "       'service', 'silent', 'stop', 'traffic', 'voice'], dtype=object)"
            ]
          },
          "metadata": {},
          "execution_count": 145
        }
      ],
      "source": [
        "feature_names = vectorizer.get_feature_names_out()\n",
        "feature_names"
      ]
    },
    {
      "cell_type": "markdown",
      "metadata": {
        "id": "wJgU2OS--5k7"
      },
      "source": [
        "The LabelEncoder converts the string labels into numbers. We then split the data such that 80% is train, 20% is test. A LogisticRegression model is trained with 1000 iterations, and fitted on the train data. The trained model then predicts a y_pred, and the report is printed.\n"
      ]
    },
    {
      "cell_type": "code",
      "execution_count": null,
      "metadata": {
        "id": "O8IoylIw-7Wz",
        "colab": {
          "base_uri": "https://localhost:8080/"
        },
        "outputId": "c3b53aca-eadd-4fc1-821c-5e1746fc8753"
      },
      "outputs": [
        {
          "output_type": "stream",
          "name": "stdout",
          "text": [
            "              precision    recall  f1-score   support\n",
            "\n",
            "           1       1.00      1.00      1.00     13405\n",
            "           2       0.98      0.89      0.93     37526\n",
            "           3       1.00      1.00      1.00    196213\n",
            "           4       0.92      1.00      0.95     45376\n",
            "\n",
            "    accuracy                           0.98    292520\n",
            "   macro avg       0.97      0.97      0.97    292520\n",
            "weighted avg       0.98      0.98      0.98    292520\n",
            "\n"
          ]
        }
      ],
      "source": [
        "label_encoder = LabelEncoder()\n",
        "y = label_encoder.fit_transform(top_10_df['priority'])\n",
        "\n",
        "X_train, X_test, y_train, y_test = train_test_split(tfidf_matrix, y, test_size=0.2, random_state=42)\n",
        "model = LogisticRegression(max_iter=1000)\n",
        "model.fit(X_train, y_train)\n",
        "y_pred = model.predict(X_test)\n",
        "print(classification_report(label_encoder.inverse_transform(y_test), label_encoder.inverse_transform(y_pred), labels=[1,2,3,4]))"
      ]
    },
    {
      "cell_type": "markdown",
      "metadata": {
        "id": "nn_kMhao-86Z"
      },
      "source": [
        "In the above classification report, we see that all priorities have a high value for f1-score, which balances precision and recall. The accuracy was also relatively high at 0.98. Below, we generate a confusion matrix to visualize the models performance. The model performs very well for all priorities. For priority 1, all test data was properly classified. 2, 3, and 4 didn't have perfect accuracy, but were still very well performing."
      ]
    },
    {
      "cell_type": "code",
      "execution_count": null,
      "metadata": {
        "id": "-OjrV8yx--zJ",
        "colab": {
          "base_uri": "https://localhost:8080/",
          "height": 472
        },
        "outputId": "c45344c4-5827-494d-ea25-2765a87fc351"
      },
      "outputs": [
        {
          "output_type": "display_data",
          "data": {
            "text/plain": [
              "<Figure size 640x480 with 2 Axes>"
            ],
            "image/png": "[encoded data removed]"
          },
          "metadata": {}
        }
      ],
      "source": [
        "cm = confusion_matrix(label_encoder.inverse_transform(y_test), label_encoder.inverse_transform(y_pred), labels=[1,2,3,4])\n",
        "disp = ConfusionMatrixDisplay(confusion_matrix=cm, display_labels=[1, 2, 3, 4])\n",
        "disp.plot(cmap=plt.cm.Reds)\n",
        "plt.title(\"Confusion Matrix\")\n",
        "plt.show()"
      ]
    },
    {
      "cell_type": "markdown",
      "metadata": {
        "id": "cBh2SRqm_DKi"
      },
      "source": [
        "### **Machine Learning Analysis: Using District to Predict Priority**"
      ]
    },
    {
      "cell_type": "markdown",
      "metadata": {
        "id": "3HODQNDX_FQ2"
      },
      "source": [
        "This section will explore whether the district of a 911 call influences the priority under which the call is classified. To investigate the impact of the district on the priority, we will apply supervised learning by training the model with existing data. We will use K folds to determine which supervised learning model would best predict this pattern."
      ]
    },
    {
      "cell_type": "markdown",
      "metadata": {
        "id": "0aR8zt7p_HM9"
      },
      "source": [
        "Since most supervised learning models need two continuous variables, we would need to turn the districts into continous variables. We can use the label encoder to turn these districts into a numerical format."
      ]
    },
    {
      "cell_type": "code",
      "execution_count": null,
      "metadata": {
        "id": "euLGrxYN_JKs",
        "colab": {
          "base_uri": "https://localhost:8080/"
        },
        "outputId": "1ed02938-7960-4492-b104-580daa5ece19"
      },
      "outputs": [
        {
          "output_type": "stream",
          "name": "stdout",
          "text": [
            "0           0\n",
            "1           0\n",
            "2           0\n",
            "3           0\n",
            "4          15\n",
            "           ..\n",
            "2799909    11\n",
            "2799910    10\n",
            "2799911     0\n",
            "2799912     2\n",
            "2799913    17\n",
            "Name: district, Length: 2792456, dtype: int64\n"
          ]
        }
      ],
      "source": [
        "encoder = LabelEncoder()\n",
        "updated_priority_df['district'] = encoder.fit_transform(updated_priority_df['district'])\n",
        "\n",
        "print(updated_priority_df['district'])"
      ]
    },
    {
      "cell_type": "markdown",
      "metadata": {
        "id": "qlxcJRzi_LCv"
      },
      "source": [
        "We will need to split up the dataframe into training and testing data since we are using a supervised learning method. 80% of the data will be used to train these models. We would also need to scale our data since the two contiuous variables could skew the pattern depending on what the value of the variable is."
      ]
    },
    {
      "cell_type": "code",
      "execution_count": null,
      "metadata": {
        "id": "RZySCVFZ_M1c"
      },
      "outputs": [],
      "source": [
        "X_district = updated_priority_df[['district']]\n",
        "Y_district = updated_priority_df['priority']\n",
        "X_train_district, X_test_district, y_train_district, y_test_district = train_test_split(X_district, Y_district, test_size = 0.2)\n",
        "\n",
        "scaler = StandardScaler()\n",
        "X_train_district_scaled = scaler.fit_transform(X_train_district)\n",
        "X_test_district_scaled = scaler.transform(X_test_district)"
      ]
    },
    {
      "cell_type": "markdown",
      "metadata": {
        "id": "Y0hJ67d8_Oum"
      },
      "source": [
        "The models that we will utilize will be Logisitic Regression, Decision Tree, and Random Forest. Using cross-validation, we will determine which one of these models would be best when training based on the effect of a district on the priority of a call."
      ]
    },
    {
      "cell_type": "code",
      "execution_count": null,
      "metadata": {
        "id": "GjcKWKfD_S7Y",
        "colab": {
          "base_uri": "https://localhost:8080/"
        },
        "outputId": "ff5fcbbe-e6f0-479c-8618-ccfbba84abeb"
      },
      "outputs": [
        {
          "output_type": "stream",
          "name": "stdout",
          "text": [
            "Model Name: Logistic Regression, Mean: 0.5008433439394946, Standard Deviation: 8.954583280704466e-07\n",
            "Model Name: Decision Tree, Mean: 0.5031880550069274, Standard Deviation: 6.57165150001225e-05\n",
            "Model Name: Random Forest, Mean: 0.5031876073713387, Standard Deviation: 6.493120927485183e-05\n"
          ]
        }
      ],
      "source": [
        "models = {\n",
        "    'Logistic Regression': LogisticRegression(random_state = seed),\n",
        "    'Decision Tree': DecisionTreeClassifier(random_state = seed),\n",
        "    'Random Forest': RandomForestClassifier(random_state = seed)\n",
        "    }\n",
        "\n",
        "k_folds = 5\n",
        "skf = StratifiedKFold(n_splits = k_folds, shuffle = True, random_state = seed)\n",
        "\n",
        "for model_name, model in models.items():\n",
        "    scores = cross_val_score(model, X_train_district_scaled,  y_train_district, cv = skf, scoring = 'accuracy')\n",
        "    mean = np.mean(scores)\n",
        "    std = np.std(scores)\n",
        "    print(\"Model Name: \" + str(model_name) + \", Mean: \" + str(mean) + \", Standard Deviation: \" + str(std))"
      ]
    },
    {
      "cell_type": "markdown",
      "metadata": {
        "id": "qhU3nCM3_UsL"
      },
      "source": [
        "From the cross validation, we can see that the model can not accurately predict the pattern between districts and priority. The \"most accurate\" ML model would be the Logistic Regression model. It has a mean of 0.5011 which is extremely similar to the mean of the other models, however, the Standard deviation is 1 x 10^-6 which is much smaller than the other models. Since this standard deviation is smaller, we will choose the Logistic Regression model."
      ]
    },
    {
      "cell_type": "code",
      "execution_count": null,
      "metadata": {
        "id": "wgW4dn4r_WYO",
        "colab": {
          "base_uri": "https://localhost:8080/"
        },
        "outputId": "fdd17c7b-5eae-4d5a-e482-2c18ce8a9d2b"
      },
      "outputs": [
        {
          "output_type": "stream",
          "name": "stdout",
          "text": [
            "Accuracy of Logistic Regression Model: 0.50\n",
            "              precision    recall  f1-score   support\n",
            "\n",
            "           1       0.00      0.00      0.00         0\n",
            "           2       0.00      0.00      0.00         0\n",
            "           3       1.00      0.50      0.67    558492\n",
            "           4       0.00      0.00      0.00         0\n",
            "           5       0.00      0.00      0.00         0\n",
            "\n",
            "    accuracy                           0.50    558492\n",
            "   macro avg       0.20      0.10      0.13    558492\n",
            "weighted avg       1.00      0.50      0.67    558492\n",
            "\n"
          ]
        }
      ],
      "source": [
        "logregModel = LogisticRegression(random_state=42)\n",
        "logregModel.fit(X_train_district_scaled, y_train_district)\n",
        "\n",
        "\n",
        "y_district_pred = logregModel.predict(X_test_district_scaled)\n",
        "accuracy = accuracy_score(y_district_pred, y_test_district)\n",
        "print(f\"Accuracy of Logistic Regression Model: {accuracy:.2f}\")\n",
        "print(classification_report(y_district_pred, y_test_district, zero_division = 0))"
      ]
    },
    {
      "cell_type": "markdown",
      "metadata": {
        "id": "4wwTx8lA_X4d"
      },
      "source": [
        "From the classification report, the values 1-5 signify the priority. It shows a severe case of underfitting as all the districts are being generalized to medium priority. There's no statistics for precision, recall, or f1-score for the other priorities. Also, the accuracy is 50% with a precision of 100%, a recall of 50% and f1-score of 67% for medium priority. This is most likely because of the lack of relevant features to make accurate predictions. From the \"Analysis: Central Tendacies of Number of 911 Calls\" section, it was determined the mean of the priority data is Medium priority. If each district's mean priority is medium as well, it would make sense for the model to just generalize a district to medium priority. Just getting the district doesn't give enough information on what the 911 call will be classified as. There should be other features such as Call Times and Description which would lead to more accurate results. As you can see below, the Logistic Regression model just grouped all of the test data as medium priority."
      ]
    },
    {
      "cell_type": "code",
      "execution_count": null,
      "metadata": {
        "id": "x7UpY6Mf_ZwE",
        "colab": {
          "base_uri": "https://localhost:8080/",
          "height": 487
        },
        "outputId": "543c6a72-3ae6-4c5f-81a1-432cda0834d8"
      },
      "outputs": [
        {
          "output_type": "display_data",
          "data": {
            "text/plain": [
              "<Figure size 640x480 with 1 Axes>"
            ],
            "image/png": "[encoded data removed]"
          },
          "metadata": {}
        }
      ],
      "source": [
        "plt.scatter(y_test_district, y_district_pred, color='blue')\n",
        "\n",
        "plt.xlabel('Actual Priority')\n",
        "plt.ylabel('Predicted Priority')\n",
        "plt.title('Actual vs Predicted Priority')\n",
        "\n",
        "plt.plot([min(y_test_district), max(y_test_district)], [min(y_test_district), max(y_test_district)], color='red', linestyle='--')\n",
        "\n",
        "plt.tight_layout()\n",
        "plt.show()"
      ]
    },
    {
      "cell_type": "markdown",
      "metadata": {
        "id": "1VNokDJF_fZT"
      },
      "source": [
        "#### **Machine Learning Analysis: Using District to Predict Priority (Further Exploration)**"
      ]
    },
    {
      "cell_type": "markdown",
      "metadata": {
        "id": "ZEN535kJ_hFU"
      },
      "source": [
        "After the section above, it was deduced that another relevant feature had to be added in order to increase the accuracy when predicting the priority of a 911 call. Only having district as a feature was not enough so we decided to include the description feature as well."
      ]
    },
    {
      "cell_type": "markdown",
      "metadata": {
        "id": "eSJYYYIN_jFc"
      },
      "source": [
        "Since description is also a non-numerical variable, we have to turn it numerical using the label encoder once again."
      ]
    },
    {
      "cell_type": "code",
      "execution_count": null,
      "metadata": {
        "id": "HC6rFP54_kxH",
        "colab": {
          "base_uri": "https://localhost:8080/"
        },
        "outputId": "38b99a8a-0f8c-4ad4-a945-973141db8e3b"
      },
      "outputs": [
        {
          "output_type": "stream",
          "name": "stdout",
          "text": [
            "         description  priority  district\n",
            "0               6624       3.0         0\n",
            "1               1420       3.0         0\n",
            "2               1420       3.0         0\n",
            "3               6142       2.0         0\n",
            "4               1902       3.0        15\n",
            "...              ...       ...       ...\n",
            "2792451         2084       2.0        11\n",
            "2792452         3875       2.0        10\n",
            "2792453         4674       3.0         0\n",
            "2792454         2795       3.0         2\n",
            "2792455         3109       3.0        17\n",
            "\n",
            "[2792456 rows x 3 columns]\n"
          ]
        }
      ],
      "source": [
        "ML_priority_df = pd.DataFrame()\n",
        "\n",
        "ML_priority_df['description'] = encoder.fit_transform(updated_priority_df['description'])\n",
        "ML_priority_df['priority'] = call_time_df['priority']\n",
        "ML_priority_df['district'] = encoder.fit_transform(updated_priority_df['district'])\n",
        "\n",
        "print(ML_priority_df)"
      ]
    },
    {
      "cell_type": "code",
      "execution_count": null,
      "metadata": {
        "id": "vl7pkJipEq4r",
        "colab": {
          "base_uri": "https://localhost:8080/"
        },
        "outputId": "f8eda4c9-5620-4260-a7fa-e18dfdcc2407"
      },
      "outputs": [
        {
          "output_type": "stream",
          "name": "stdout",
          "text": [
            "0\n"
          ]
        }
      ],
      "source": [
        "Y_priority = call_time_df['priority']\n",
        "print(Y_priority.isna().sum())"
      ]
    },
    {
      "cell_type": "code",
      "execution_count": null,
      "metadata": {
        "id": "l-uzVt1j_mKZ"
      },
      "outputs": [],
      "source": [
        "X_priority = ML_priority_df.drop(columns = 'priority')\n",
        "Y_priority = call_time_df['priority']\n",
        "X_train_priority , X_test_priority , y_train_priority , y_test_priority = train_test_split(X_priority , Y_priority, test_size = 0.2)\n",
        "\n",
        "scaler = StandardScaler()\n",
        "X_train_priority_scaled = scaler.fit_transform(X_train_priority)\n",
        "X_test_priority_scaled = scaler.transform(X_test_priority)"
      ]
    },
    {
      "cell_type": "code",
      "execution_count": null,
      "metadata": {
        "id": "t57sHRTf_nLk",
        "outputId": "f6df990f-3e54-4acc-98e6-e578870fe812",
        "colab": {
          "base_uri": "https://localhost:8080/"
        }
      },
      "outputs": [
        {
          "output_type": "stream",
          "name": "stdout",
          "text": [
            "Model Name: Logistic Regression, Mean: 0.5701013981691594, Standard Deviation: 0.0003587659501989165\n",
            "Model Name: Decision Tree, Mean: 0.970139626188131, Standard Deviation: 8.582729210362637e-05\n",
            "Model Name: Random Forest, Mean: 0.9697604795547378, Standard Deviation: 0.0001141170009386429\n"
          ]
        }
      ],
      "source": [
        "for model_name, model in models.items():\n",
        "    scores = cross_val_score(model, X_train_priority_scaled,  y_train_priority, cv = skf, scoring = 'accuracy')\n",
        "    mean = np.mean(scores)\n",
        "    std = np.std(scores)\n",
        "    print(\"Model Name: \" + str(model_name) + \", Mean: \" + str(mean) + \", Standard Deviation: \" + str(std))"
      ]
    },
    {
      "cell_type": "markdown",
      "metadata": {
        "id": "aAThrVy2_odk"
      },
      "source": [
        "After scaling and training 3 models (Logisitc Regression, Decision Tree, and Random Forest), the results are much more promising compared to the section above. Logistic regression still has a mean accuracy of around .5 but the Decision Tree model and Random Forest model has high mean accuracy of around 0.97. This demonstrates that the model is less likely to underfit with this additional feature and is more likely to accurately predict the priority now. We will continue testing the data with the Decision Tree model as it has the highest mean accuracy and lowest standard deviation."
      ]
    },
    {
      "cell_type": "code",
      "execution_count": null,
      "metadata": {
        "id": "n7HPFSVF_qe3",
        "colab": {
          "base_uri": "https://localhost:8080/"
        },
        "outputId": "ece3da55-8333-46b1-e19e-8e263530a2d2"
      },
      "outputs": [
        {
          "output_type": "stream",
          "name": "stdout",
          "text": [
            "Accuracy of Decision Tree Model: 0.97\n",
            "              precision    recall  f1-score   support\n",
            "\n",
            "           1       0.12      0.12      0.12     66520\n",
            "           2       0.23      0.23      0.23    128521\n",
            "           3       0.49      0.50      0.50    272897\n",
            "           4       0.16      0.15      0.16     90373\n",
            "           5       0.00      0.00      0.00       181\n",
            "\n",
            "    accuracy                           0.34    558492\n",
            "   macro avg       0.20      0.20      0.20    558492\n",
            "weighted avg       0.33      0.34      0.33    558492\n",
            "\n"
          ]
        }
      ],
      "source": [
        "decisionTreeModel = DecisionTreeClassifier(random_state=42)\n",
        "decisionTreeModel.fit(X_train_priority_scaled, y_train_priority)\n",
        "\n",
        "\n",
        "y_district_pred = decisionTreeModel.predict(X_test_priority_scaled)\n",
        "accuracy = accuracy_score(y_district_pred, y_test_priority)\n",
        "print(f\"Accuracy of Decision Tree Model: {accuracy:.2f}\")\n",
        "print(classification_report(y_district_pred, y_test_district, zero_division = 0))"
      ]
    },
    {
      "cell_type": "markdown",
      "metadata": {
        "id": "hk6zM4RL_r1A"
      },
      "source": [
        "This classification report is much better than the previous classification report seen in the previous section. The model is actually predicting priorities other than Medium priority. It also has an accuracy of 97% which is much higher than the accuracy of 50% that we calculated from the other report. There is still a slight issue, however. Despite the accuracy being extremely high, all of the precision, recall, and f1-score is still extremely low. This can stem from the data being unevenly distributed which would make sense as the mean priority is medium. It can be concluded that majority of the 911 calls from this dataset is probably classified at a Medium priority which could cause this skewed precision, recall, and f1-score. Another fix could be introducing another feature to balance out the dataset a bit more.\n",
        "\n",
        "Adding another feature helped us understand that we cannot directly predict the type of priority a call is classified under just from the district it's from as it's mainly influenced by the common crimes that come from that district. Districts with frequent dangerous crimes will probably cause for higher priority calls but we wouldn't be able to conclude this without the description of the crime."
      ]
    },
    {
      "cell_type": "code",
      "execution_count": null,
      "metadata": {
        "id": "jn7S7dS7_tsI",
        "colab": {
          "base_uri": "https://localhost:8080/",
          "height": 487
        },
        "outputId": "40d62594-2f17-41d0-c5ac-31ee591c5948"
      },
      "outputs": [
        {
          "output_type": "display_data",
          "data": {
            "text/plain": [
              "<Figure size 640x480 with 1 Axes>"
            ],
            "image/png": "[encoded data removed]"
          },
          "metadata": {}
        }
      ],
      "source": [
        "plt.scatter(y_test_district, y_district_pred, color='blue')\n",
        "\n",
        "plt.xlabel('Actual Priority')\n",
        "plt.ylabel('Predicted Priority')\n",
        "plt.title('Actual vs Predicted Priority')\n",
        "\n",
        "plt.plot([min(y_test_priority), max(y_test_priority)], [min(y_test_priority), max(y_test_priority)], color='red', linestyle='--')\n",
        "\n",
        "plt.tight_layout()\n",
        "plt.show()"
      ]
    },
    {
      "cell_type": "markdown",
      "source": [
        "# **Conclusion and Next Steps**\n",
        "\n",
        "This portion of the data science lifecycle is where we finally put the data we have collected, gathered, tested, and analyzed to try to draw broader conclusions about the dataset as a whole.\n",
        "\n",
        "It seems that, after running many different features against priority, there are a couple conclusions that can be made right off the bat:\n",
        "\n",
        "If one thing is blatantly clear about the modeling, it is that description is an incredible predictor of priority, meaning that, in the future, we could analyze which specific descriptions seem to capture the most attention from police and if the description's severity seems to match the priority at which police treat it with, and also that police upon being alerted of certain descriptions are automatically prepared to place it under a certain level of priority, no matter what other facts about the situation may be present.\n",
        "\n",
        "Additionally, without using description as a primary predictor for priority, it seems that both district and time alike are not very good predictors as both needed additional features (ie. descriptions) before the machine learning algorithms could produce a reliable and accurate prediction. This suggests that the Baltimore police don't seem to prioritize any districts over another, and surprisingly are not any more productive at a certain time of day.\n",
        "\n",
        "If further analysis is needed, one thing that could be potentially worth exploring is the arrival time based on the description and priority in order to see if police not only categorize and prioritize calls based on their description, but also how fast the response time is as well. Another way to expand the scope of the project would be limiting the descriptions down to the top 5 to see if the description's relation to prioritization still holds."
      ],
      "metadata": {
        "id": "fa3t_fqrH8pt"
      }
    }
  ],
  "metadata": {
    "colab": {
      "provenance": [],
      "toc_visible": true
    },
    "kernelspec": {
      "display_name": "Python 3",
      "name": "python3"
    },
    "language_info": {
      "name": "python"
    }
  },
  "nbformat": 4,
  "nbformat_minor": 0
}